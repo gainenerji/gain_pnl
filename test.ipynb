{
 "cells": [
  {
   "attachments": {},
   "cell_type": "markdown",
   "id": "48537c62",
   "metadata": {},
   "source": [
    "Created on Tue Feb 14 2023\n",
    "\n",
    "Genel PnL hesabı\n",
    "\n",
    "Gain Enerji \n",
    "\n",
    "@author: Berkay Akpınar\n"
   ]
  },
  {
   "cell_type": "markdown",
   "id": "605a5703-e0fb-4405-8685-6c6547cf1293",
   "metadata": {
    "jp-MarkdownHeadingCollapsed": true,
    "tags": []
   },
   "source": [
    "## Libraries"
   ]
  },
  {
   "cell_type": "code",
   "execution_count": 2,
   "id": "db13912b-db93-4a12-9b7c-f7595e2e3698",
   "metadata": {},
   "outputs": [],
   "source": [
    "import pandas as pd\n",
    "import seaborn as sns\n",
    "import matplotlib.pyplot as plt\n",
    "import numpy as np\n",
    "import datetime\n",
    "from UliPlot.XLSX import auto_adjust_xlsx_column_width\n",
    "from dateutil import relativedelta"
   ]
  },
  {
   "cell_type": "markdown",
   "id": "4dee24a3-8414-45ed-bd8f-14d6ddcd1822",
   "metadata": {
    "jp-MarkdownHeadingCollapsed": true,
    "tags": []
   },
   "source": [
    "## Data Paths"
   ]
  },
  {
   "cell_type": "code",
   "execution_count": 3,
   "id": "da2afe47-4384-429f-b2ab-779caa943175",
   "metadata": {},
   "outputs": [],
   "source": [
    "data_path = \"data.xlsx\"\n",
    "dengesizlik_path = \"dengesizlik_data.xlsx\"\n",
    "super_grup_path = \"super_grup.xlsx\"\n",
    "gip_path = \"gip_data.xlsx\""
   ]
  },
  {
   "cell_type": "markdown",
   "id": "fe25551d-2ff2-4ced-9d53-3e67a4b6664d",
   "metadata": {
    "jp-MarkdownHeadingCollapsed": true,
    "tags": []
   },
   "source": [
    "## Read Excel"
   ]
  },
  {
   "cell_type": "code",
   "execution_count": 41,
   "id": "83f8909e-decf-48f9-81b1-422b53822f24",
   "metadata": {},
   "outputs": [],
   "source": [
    "wind1_data = pd.read_excel(\"data.xlsx\",sheet_name='Wind_1')\n",
    "wind2_data = pd.read_excel(data_path,sheet_name='Wind_2')\n",
    "hydro1_data = pd.read_excel(data_path,sheet_name='Hydro_1')\n",
    "hydro2_data = pd.read_excel(data_path,sheet_name='Hydro_2')\n",
    "fiyat_data = pd.read_excel(data_path,sheet_name='PTF, SMF')\n",
    "dengesizlik_data = pd.read_excel(dengesizlik_path)\n",
    "gip_data = pd.read_excel(gip_path)\n",
    "super_grup_data = pd.read_excel(super_grup_path)\n",
    "\n"
   ]
  },
  {
   "cell_type": "markdown",
   "id": "7d22194f",
   "metadata": {},
   "source": [
    "#### Empty Frame"
   ]
  },
  {
   "cell_type": "code",
   "execution_count": 49,
   "id": "cc1816e2",
   "metadata": {},
   "outputs": [
    {
     "data": {
      "text/html": [
       "<div>\n",
       "<style scoped>\n",
       "    .dataframe tbody tr th:only-of-type {\n",
       "        vertical-align: middle;\n",
       "    }\n",
       "\n",
       "    .dataframe tbody tr th {\n",
       "        vertical-align: top;\n",
       "    }\n",
       "\n",
       "    .dataframe thead th {\n",
       "        text-align: right;\n",
       "    }\n",
       "</style>\n",
       "<table border=\"1\" class=\"dataframe\">\n",
       "  <thead>\n",
       "    <tr style=\"text-align: right;\">\n",
       "      <th></th>\n",
       "      <th>Tarih</th>\n",
       "      <th>Saat</th>\n",
       "      <th>Dönem</th>\n",
       "    </tr>\n",
       "  </thead>\n",
       "  <tbody>\n",
       "    <tr>\n",
       "      <th>0</th>\n",
       "      <td>2022-01-01</td>\n",
       "      <td>0</td>\n",
       "      <td>1</td>\n",
       "    </tr>\n",
       "    <tr>\n",
       "      <th>1</th>\n",
       "      <td>2022-01-01</td>\n",
       "      <td>1</td>\n",
       "      <td>1</td>\n",
       "    </tr>\n",
       "    <tr>\n",
       "      <th>2</th>\n",
       "      <td>2022-01-01</td>\n",
       "      <td>2</td>\n",
       "      <td>1</td>\n",
       "    </tr>\n",
       "    <tr>\n",
       "      <th>3</th>\n",
       "      <td>2022-01-01</td>\n",
       "      <td>3</td>\n",
       "      <td>1</td>\n",
       "    </tr>\n",
       "    <tr>\n",
       "      <th>4</th>\n",
       "      <td>2022-01-01</td>\n",
       "      <td>4</td>\n",
       "      <td>1</td>\n",
       "    </tr>\n",
       "    <tr>\n",
       "      <th>...</th>\n",
       "      <td>...</td>\n",
       "      <td>...</td>\n",
       "      <td>...</td>\n",
       "    </tr>\n",
       "    <tr>\n",
       "      <th>8755</th>\n",
       "      <td>2022-12-31</td>\n",
       "      <td>19</td>\n",
       "      <td>12</td>\n",
       "    </tr>\n",
       "    <tr>\n",
       "      <th>8756</th>\n",
       "      <td>2022-12-31</td>\n",
       "      <td>20</td>\n",
       "      <td>12</td>\n",
       "    </tr>\n",
       "    <tr>\n",
       "      <th>8757</th>\n",
       "      <td>2022-12-31</td>\n",
       "      <td>21</td>\n",
       "      <td>12</td>\n",
       "    </tr>\n",
       "    <tr>\n",
       "      <th>8758</th>\n",
       "      <td>2022-12-31</td>\n",
       "      <td>22</td>\n",
       "      <td>12</td>\n",
       "    </tr>\n",
       "    <tr>\n",
       "      <th>8759</th>\n",
       "      <td>2022-12-31</td>\n",
       "      <td>23</td>\n",
       "      <td>12</td>\n",
       "    </tr>\n",
       "  </tbody>\n",
       "</table>\n",
       "<p>8760 rows × 3 columns</p>\n",
       "</div>"
      ],
      "text/plain": [
       "          Tarih  Saat  Dönem\n",
       "0    2022-01-01     0      1\n",
       "1    2022-01-01     1      1\n",
       "2    2022-01-01     2      1\n",
       "3    2022-01-01     3      1\n",
       "4    2022-01-01     4      1\n",
       "...         ...   ...    ...\n",
       "8755 2022-12-31    19     12\n",
       "8756 2022-12-31    20     12\n",
       "8757 2022-12-31    21     12\n",
       "8758 2022-12-31    22     12\n",
       "8759 2022-12-31    23     12\n",
       "\n",
       "[8760 rows x 3 columns]"
      ]
     },
     "execution_count": 49,
     "metadata": {},
     "output_type": "execute_result"
    }
   ],
   "source": [
    "empty_frame = wind1_data.copy()\n",
    "empty_frame.drop(\"Gün Öncesi Üretim Tahmini (MWh)\", inplace=True, axis=1)\n",
    "empty_frame.drop(\"Gün İçi Üretim Tahmini Revizesi (MWh)\", inplace=True, axis=1)\n",
    "empty_frame.drop(\"Gerçekleşen Üretim  (MWh)\", inplace=True, axis=1)\n",
    "dönem = pd.Series(pd.DatetimeIndex(empty_frame[\"Tarih\"]).month)\n",
    "empty_frame.assign(Dönem = dönem)"
   ]
  },
  {
   "cell_type": "markdown",
   "id": "7fc581ba-e0de-4c1a-9c3e-92d49233ffa1",
   "metadata": {
    "jp-MarkdownHeadingCollapsed": true,
    "tags": []
   },
   "source": [
    "## Variables"
   ]
  },
  {
   "cell_type": "code",
   "execution_count": 5,
   "id": "54652854-889b-44a0-a015-31f7f82cbb16",
   "metadata": {},
   "outputs": [],
   "source": [
    "wind1_fee_var = 3/100\n",
    "wind2_fee_var = 3/100\n",
    "hydro1_fee_var = 2/100\n",
    "hydro2_fee_var = 1.5/100\n",
    "\n",
    "wind1_fee_const = -35\n",
    "wind2_fee_const = -15\n",
    "hydro1_fee_const = -30\n",
    "hydro2_fee_const = 0"
   ]
  },
  {
   "cell_type": "markdown",
   "id": "d9cef060-9d9f-41ee-ab98-6bef8b1d9fd4",
   "metadata": {
    "tags": []
   },
   "source": [
    "## Functions"
   ]
  },
  {
   "cell_type": "markdown",
   "id": "56c6b83c-7bbf-464b-b8bd-51ad0e97db55",
   "metadata": {
    "jp-MarkdownHeadingCollapsed": true,
    "tags": []
   },
   "source": [
    "### Max Fiyat Bulan Fonksiyon"
   ]
  },
  {
   "cell_type": "code",
   "execution_count": 6,
   "id": "831560bf-a15c-4af0-b96f-a7d326057a11",
   "metadata": {},
   "outputs": [],
   "source": [
    "def fiyat_max(row):\n",
    "    if row['Piyasa Takas Fiyatı (TL/MWh)'] > row['Sistem Marjinal Fiyatı (TL/MWh)']:\n",
    "        return row['Piyasa Takas Fiyatı (TL/MWh)']\n",
    "    elif row['Piyasa Takas Fiyatı (TL/MWh)'] < row['Sistem Marjinal Fiyatı (TL/MWh)']:\n",
    "        return row['Sistem Marjinal Fiyatı (TL/MWh)']\n",
    "    else:\n",
    "        return row['Piyasa Takas Fiyatı (TL/MWh)']\n"
   ]
  },
  {
   "cell_type": "code",
   "execution_count": 7,
   "id": "af3e50e4-c43c-4961-baac-ada9f3a982be",
   "metadata": {},
   "outputs": [],
   "source": [
    "max_fiyat = fiyat_data.apply(fiyat_max, axis=1)"
   ]
  },
  {
   "cell_type": "markdown",
   "id": "e0f1a430-dc3d-4a86-96ab-c2a5c0f0ec4f",
   "metadata": {
    "jp-MarkdownHeadingCollapsed": true,
    "tags": []
   },
   "source": [
    "### Min Fiyat Bulan Fonksiyon"
   ]
  },
  {
   "cell_type": "code",
   "execution_count": 8,
   "id": "6a2567ef-896a-4ccf-a81a-6d34d569c254",
   "metadata": {},
   "outputs": [],
   "source": [
    "def fiyat_min(row):\n",
    "    if row['Piyasa Takas Fiyatı (TL/MWh)'] > row['Sistem Marjinal Fiyatı (TL/MWh)']:\n",
    "        return row['Sistem Marjinal Fiyatı (TL/MWh)']\n",
    "    elif row['Piyasa Takas Fiyatı (TL/MWh)'] < row['Sistem Marjinal Fiyatı (TL/MWh)']:\n",
    "        return row['Piyasa Takas Fiyatı (TL/MWh)']\n",
    "    else:\n",
    "        return row['Piyasa Takas Fiyatı (TL/MWh)']"
   ]
  },
  {
   "cell_type": "code",
   "execution_count": 9,
   "id": "dd5930bd-9e8a-4d84-8fba-f19f2ddd7c0c",
   "metadata": {},
   "outputs": [],
   "source": [
    "min_fiyat = fiyat_data.apply(fiyat_min, axis=1)"
   ]
  },
  {
   "cell_type": "markdown",
   "id": "abf62823-20af-4831-a2a0-c4c86be70d06",
   "metadata": {
    "jp-MarkdownHeadingCollapsed": true,
    "tags": []
   },
   "source": [
    "### Dengesizlik Fiyatlarını Bulan Fonksiyon"
   ]
  },
  {
   "cell_type": "code",
   "execution_count": 10,
   "id": "e00819e8-6fbb-4950-9aaf-343bb80ff4a5",
   "metadata": {},
   "outputs": [],
   "source": [
    "pdf = min_fiyat*0.97\n",
    "ndf = max_fiyat*1.03"
   ]
  },
  {
   "cell_type": "markdown",
   "id": "e1198bf2-fed6-4d9f-9ed1-5b89a696a01c",
   "metadata": {
    "jp-MarkdownHeadingCollapsed": true,
    "tags": []
   },
   "source": [
    "### Dengesizlik Hesaplayan Fonksiyon"
   ]
  },
  {
   "cell_type": "code",
   "execution_count": 11,
   "id": "c7a9b5d4-5a98-41f4-9f9e-468997526c77",
   "metadata": {},
   "outputs": [],
   "source": [
    "def dengesizlik_hesapla(data_set):\n",
    "    nihai_tahmin = data_set[[\"Gün Öncesi Üretim Tahmini (MWh)\",\"Gün İçi Üretim Tahmini Revizesi (MWh)\"]].sum(axis=1)\n",
    "    dengesizlik = data_set[\"Gerçekleşen Üretim  (MWh)\"] - nihai_tahmin\n",
    "    return dengesizlik"
   ]
  },
  {
   "cell_type": "markdown",
   "id": "a9bb9439-8e70-453b-a9b2-6d1460525f72",
   "metadata": {
    "jp-MarkdownHeadingCollapsed": true,
    "tags": []
   },
   "source": [
    "### Dengesizlik Tutarı Hesaplayan Fonksiyon"
   ]
  },
  {
   "cell_type": "code",
   "execution_count": 12,
   "id": "7e0a24ca-940a-41f8-9620-70a4bcb522b4",
   "metadata": {},
   "outputs": [],
   "source": [
    "def dengesizlik_tutari_hesapla(dengesizlik):\n",
    "    dengesizlik_tutari = dengesizlik.copy()\n",
    "    for i in range(len(dengesizlik)):\n",
    "        if dengesizlik.iloc[i] > 0:\n",
    "            dengesizlik_tutari[i] = dengesizlik.iloc[i] * pdf.iloc[i]\n",
    "        elif dengesizlik.iloc[i] < 0:\n",
    "            dengesizlik_tutari[i] = dengesizlik.iloc[i] * ndf.iloc[i]    \n",
    "    return dengesizlik_tutari"
   ]
  },
  {
   "attachments": {},
   "cell_type": "markdown",
   "id": "2e03a0a7-1f2d-4de7-88db-624f709bbddb",
   "metadata": {
    "jp-MarkdownHeadingCollapsed": true,
    "tags": []
   },
   "source": [
    "### Gip Hesaplayan Fonksiyon"
   ]
  },
  {
   "cell_type": "code",
   "execution_count": 13,
   "id": "415e55e9-576f-4671-b06c-9fd24678883a",
   "metadata": {},
   "outputs": [],
   "source": [
    "def gip_hesapla():\n",
    "    pozitif_toplam = wind1_dengesizlik.copy()\n",
    "    negatif_toplam = wind1_dengesizlik.copy()\n",
    "    gain_dsg = wind1_data[\"Gün İçi Üretim Tahmini Revizesi (MWh)\"] + wind2_data[\"Gün İçi Üretim Tahmini Revizesi (MWh)\"] + hydro1_data[\"Gün İçi Üretim Tahmini Revizesi (MWh)\"] + hydro2_data[\"Gün İçi Üretim Tahmini Revizesi (MWh)\"]\n",
    "    gain_dsg_abs = abs(wind1_data[\"Gün İçi Üretim Tahmini Revizesi (MWh)\"]) + abs(wind2_data[\"Gün İçi Üretim Tahmini Revizesi (MWh)\"]) + abs(hydro1_data[\"Gün İçi Üretim Tahmini Revizesi (MWh)\"]) + abs(hydro2_data[\"Gün İçi Üretim Tahmini Revizesi (MWh)\"])\n",
    "    gip = wind1_data.copy()\n",
    "\n",
    "    for i in range(len(gain_dsg)):\n",
    "        pozitif_toplam.iloc[i] = 0\n",
    "        if wind1_data[\"Gün İçi Üretim Tahmini Revizesi (MWh)\"].iloc[i] > 0:\n",
    "             pozitif_toplam.iloc[i] = wind1_data[\"Gün İçi Üretim Tahmini Revizesi (MWh)\"].iloc[i]\n",
    "        if wind2_data[\"Gün İçi Üretim Tahmini Revizesi (MWh)\"].iloc[i] > 0:\n",
    "             pozitif_toplam.iloc[i] += wind2_data[\"Gün İçi Üretim Tahmini Revizesi (MWh)\"].iloc[i]\n",
    "        if hydro1_data[\"Gün İçi Üretim Tahmini Revizesi (MWh)\"].iloc[i] > 0:\n",
    "             pozitif_toplam.iloc[i] += hydro1_data[\"Gün İçi Üretim Tahmini Revizesi (MWh)\"].iloc[i]\n",
    "        if hydro2_data[\"Gün İçi Üretim Tahmini Revizesi (MWh)\"].iloc[i] > 0:\n",
    "             pozitif_toplam.iloc[i] += hydro2_data[\"Gün İçi Üretim Tahmini Revizesi (MWh)\"].iloc[i]\n",
    "    for i in range(len(gain_dsg)):\n",
    "        negatif_toplam.iloc[i] = 0\n",
    "        if wind1_data[\"Gün İçi Üretim Tahmini Revizesi (MWh)\"].iloc[i] < 0:\n",
    "             negatif_toplam.iloc[i] = wind1_data[\"Gün İçi Üretim Tahmini Revizesi (MWh)\"].iloc[i]\n",
    "        if wind2_data[\"Gün İçi Üretim Tahmini Revizesi (MWh)\"].iloc[i] < 0:\n",
    "             negatif_toplam.iloc[i] += wind2_data[\"Gün İçi Üretim Tahmini Revizesi (MWh)\"].iloc[i]\n",
    "        if hydro1_data[\"Gün İçi Üretim Tahmini Revizesi (MWh)\"].iloc[i] < 0:\n",
    "             negatif_toplam.iloc[i] += hydro1_data[\"Gün İçi Üretim Tahmini Revizesi (MWh)\"].iloc[i]\n",
    "        if hydro2_data[\"Gün İçi Üretim Tahmini Revizesi (MWh)\"].iloc[i] < 0:\n",
    "             negatif_toplam.iloc[i] += hydro2_data[\"Gün İçi Üretim Tahmini Revizesi (MWh)\"].iloc[i]\n",
    "\n",
    "    wind1_gip_oran = (abs(wind1_data[\"Gün İçi Üretim Tahmini Revizesi (MWh)\"])/gain_dsg_abs) * 100\n",
    "    wind2_gip_oran = (abs(wind2_data[\"Gün İçi Üretim Tahmini Revizesi (MWh)\"])/gain_dsg_abs) * 100\n",
    "    hydro1_gip_oran = (abs(hydro1_data[\"Gün İçi Üretim Tahmini Revizesi (MWh)\"])/gain_dsg_abs) * 100\n",
    "    hydro2_gip_oran = (abs(hydro2_data[\"Gün İçi Üretim Tahmini Revizesi (MWh)\"])/gain_dsg_abs) * 100\n",
    "\n",
    "    wind1_gip_pnl = gain_gip[\"Gain Saatlik GİP PnL\"] * wind1_gip_oran/100\n",
    "    wind2_gip_pnl = gain_gip[\"Gain Saatlik GİP PnL\"] * wind2_gip_oran/100\n",
    "    hydro1_gip_pnl = gain_gip[\"Gain Saatlik GİP PnL\"] * hydro1_gip_oran/100\n",
    "    hydro2_gip_pnl = gain_gip[\"Gain Saatlik GİP PnL\"] * hydro2_gip_oran/100\n",
    "    gain_gip_pnl = wind1_gip_pnl + wind2_gip_pnl + hydro1_gip_pnl + hydro2_gip_pnl\n",
    "\n",
    "    gip.drop(\"Gün Öncesi Üretim Tahmini (MWh)\", inplace=True, axis=1)\n",
    "    gip.drop(\"Gün İçi Üretim Tahmini Revizesi (MWh)\", inplace=True, axis=1)\n",
    "    gip.drop(\"Gerçekleşen Üretim  (MWh)\", inplace=True, axis=1)\n",
    "\n",
    "    gip[\"Wind1 Gip Dağılım oranı\"] = wind1_gip_oran\n",
    "    gip[\"Wind2 Gip Dağılım oranı\"] = wind2_gip_oran\n",
    "    gip[\"Hydro1 Gip Dağılım oranı\"] = hydro1_gip_oran\n",
    "    gip[\"Hydro2 Gip Dağılım oranı\"] = hydro2_gip_oran\n",
    "    gip[\"Wind1 Gip PnL\"] = wind1_gip_pnl\n",
    "    gip[\"Wind2 Gip PnL\"] = wind2_gip_pnl\n",
    "    gip[\"Hydro1 Gip PnL\"] = hydro1_gip_pnl\n",
    "    gip[\"Hydro2 Gip PnL\"] = hydro2_gip_pnl\n",
    "    gip[\"Gain Gip PnL\"] = gain_gip_pnl\n",
    "\n",
    "    \n",
    "\n",
    "    \n",
    "    \n",
    "    return gip"
   ]
  },
  {
   "cell_type": "markdown",
   "id": "2fa5094c-fbc5-4019-9740-8bf4707537c9",
   "metadata": {
    "jp-MarkdownHeadingCollapsed": true,
    "tags": []
   },
   "source": [
    "### Toplam Gelir Hesaplayan Fonksiyon"
   ]
  },
  {
   "cell_type": "code",
   "execution_count": 53,
   "id": "c44808ca-76d6-4fc7-a59f-8abc9770405e",
   "metadata": {},
   "outputs": [],
   "source": [
    "def toplam_gelir_hesapla(data_set,dengesizlik_tutari,gip):\n",
    "    nihai_tahmin = data_set[[\"Gün Öncesi Üretim Tahmini (MWh)\",\"Gün İçi Üretim Tahmini Revizesi (MWh)\"]].sum(axis=1)\n",
    "    toplam_gelir = dengesizlik_tutari+(data_set[\"Gün Öncesi Üretim Tahmini (MWh)\"]*fiyat_data[\"Piyasa Takas Fiyatı (TL/MWh)\"]) + gip\n",
    "    return toplam_gelir"
   ]
  },
  {
   "cell_type": "markdown",
   "id": "c03f8fb1-fd66-4679-8d86-2524d6102dd4",
   "metadata": {
    "jp-MarkdownHeadingCollapsed": true,
    "tags": []
   },
   "source": [
    "### Maksimum Gelir Hesaplayan Fonksiyon"
   ]
  },
  {
   "cell_type": "code",
   "execution_count": 58,
   "id": "a7aa512e-2337-455a-9cca-00ba83489bd5",
   "metadata": {},
   "outputs": [],
   "source": [
    "def maksimum_kazanc_hesapla(data_set):\n",
    "    kazanc = data_set[\"Gerçekleşen Üretim  (MWh)\"] * fiyat_data[\"Piyasa Takas Fiyatı (TL/MWh)\"]    \n",
    "    return kazanc"
   ]
  },
  {
   "cell_type": "markdown",
   "id": "8576be31-639b-4884-995f-a219f1573b1d",
   "metadata": {
    "jp-MarkdownHeadingCollapsed": true,
    "tags": []
   },
   "source": [
    "### Dengesizlik Maliyeti Hesaplayan Fonksiyon"
   ]
  },
  {
   "cell_type": "code",
   "execution_count": 16,
   "id": "8523fa08-7b69-48e2-ac20-822e4d1d7487",
   "metadata": {},
   "outputs": [],
   "source": [
    "def dengesizlik_maliyeti_hesapla(maksimum_kazanc,toplam_gelir):\n",
    "    dengesizlik_maliyeti = maksimum_kazanc - toplam_gelir\n",
    "    return dengesizlik_maliyeti"
   ]
  },
  {
   "cell_type": "markdown",
   "id": "0e59b648",
   "metadata": {},
   "source": [
    "### Birim Tablosu Hesaplayan Fonksiyon"
   ]
  },
  {
   "cell_type": "code",
   "execution_count": 17,
   "id": "d38d2367",
   "metadata": {},
   "outputs": [],
   "source": [
    "def birim_tablosu_hesapla(revize_data):\n",
    "    \n",
    "    birim_tablosu = pd.DataFrame(columns=['Periyot', 'Birim Dengesizlik Maliyeti',\"Birim KUPST\", 'Birim Üretim Geliri','Birim Net Kazanç',\"Üretim Miktarı\",'Net Kazanç','Mevsim'], dtype=float) \n",
    "    \n",
    "    # Toplam Üretim # \n",
    "    ocak_üretim = revize_data[\"Gerçekleşen Üretim  (MWh)\"][0:744].sum()\n",
    "    subat_üretim = revize_data[\"Gerçekleşen Üretim  (MWh)\"][744:1416].sum()\n",
    "    mart_üretim = revize_data[\"Gerçekleşen Üretim  (MWh)\"][1416:2160].sum()\n",
    "    nisan_üretim = revize_data[\"Gerçekleşen Üretim  (MWh)\"][2160:2880].sum()\n",
    "    mayis_üretim = revize_data[\"Gerçekleşen Üretim  (MWh)\"][2880:3624].sum()\n",
    "    haziran_üretim = revize_data[\"Gerçekleşen Üretim  (MWh)\"][3624:4344].sum()\n",
    "    temmuz_üretim = revize_data[\"Gerçekleşen Üretim  (MWh)\"][4344:5088].sum()\n",
    "    agustos_üretim = revize_data[\"Gerçekleşen Üretim  (MWh)\"][5088:5832].sum()\n",
    "    eylul_üretim = revize_data[\"Gerçekleşen Üretim  (MWh)\"][5832:6552].sum()\n",
    "    ekim_üretim = revize_data[\"Gerçekleşen Üretim  (MWh)\"][6552:7296].sum()\n",
    "    kasim_üretim = revize_data[\"Gerçekleşen Üretim  (MWh)\"][7296:8016].sum()\n",
    "    aralik_üretim = revize_data[\"Gerçekleşen Üretim  (MWh)\"][8016:8760].sum()\n",
    "    yillik_üretim = revize_data[\"Gerçekleşen Üretim  (MWh)\"][0:8760].sum()\n",
    "    \n",
    "    # Birim Dengesizlik Maliyeti #   \n",
    "    ocak_maliyet = (revize_data[\"Dengesizlik Maliyeti\"][0:744].sum()) / ocak_üretim\n",
    "    subat_maliyet = (revize_data[\"Dengesizlik Maliyeti\"][744:1416].sum()) / subat_üretim\n",
    "    mart_maliyet = (revize_data[\"Dengesizlik Maliyeti\"][1416:2160].sum()) / mart_üretim\n",
    "    nisan_maliyet = (revize_data[\"Dengesizlik Maliyeti\"][2160:2880].sum()) / nisan_üretim\n",
    "    mayis_maliyet = (revize_data[\"Dengesizlik Maliyeti\"][2880:3624].sum())/ mayis_üretim\n",
    "    haziran_maliyet = (revize_data[\"Dengesizlik Maliyeti\"][3624:4344].sum())/ haziran_üretim\n",
    "    temmuz_maliyet = (revize_data[\"Dengesizlik Maliyeti\"][4344:5088].sum())/ temmuz_üretim\n",
    "    agustos_maliyet = (revize_data[\"Dengesizlik Maliyeti\"][5088:5832].sum())/ agustos_üretim\n",
    "    eylul_maliyet = (revize_data[\"Dengesizlik Maliyeti\"][5832:6552].sum())/ eylul_üretim\n",
    "    ekim_maliyet = (revize_data[\"Dengesizlik Maliyeti\"][6552:7296].sum())/ ekim_üretim\n",
    "    kasim_maliyet = (revize_data[\"Dengesizlik Maliyeti\"][7296:8016].sum())/ kasim_üretim\n",
    "    aralik_maliyet = (revize_data[\"Dengesizlik Maliyeti\"][8016:8760].sum())/ aralik_üretim\n",
    "    yillik_maliyet = (revize_data[\"Dengesizlik Maliyeti\"][0:8760].sum())/ yillik_üretim\n",
    "    \n",
    "    # Birim Üretim Geliri #\n",
    "    ocak_gelir = (revize_data[\"Toplam Gelir Miktarı\"][0:744].sum()) / ocak_üretim\n",
    "    subat_gelir = (revize_data[\"Toplam Gelir Miktarı\"][744:1416].sum()) / subat_üretim\n",
    "    mart_gelir = (revize_data[\"Toplam Gelir Miktarı\"][1416:2160].sum()) / mart_üretim\n",
    "    nisan_gelir = (revize_data[\"Toplam Gelir Miktarı\"][2160:2880].sum()) / nisan_üretim\n",
    "    mayis_gelir = (revize_data[\"Toplam Gelir Miktarı\"][2880:3624].sum())/ mayis_üretim\n",
    "    haziran_gelir = (revize_data[\"Toplam Gelir Miktarı\"][3624:4344].sum())/ haziran_üretim\n",
    "    temmuz_gelir = (revize_data[\"Toplam Gelir Miktarı\"][4344:5088].sum())/ temmuz_üretim\n",
    "    agustos_gelir = (revize_data[\"Toplam Gelir Miktarı\"][5088:5832].sum())/ agustos_üretim\n",
    "    eylul_gelir = (revize_data[\"Toplam Gelir Miktarı\"][5832:6552].sum())/ eylul_üretim\n",
    "    ekim_gelir = (revize_data[\"Toplam Gelir Miktarı\"][6552:7296].sum())/ ekim_üretim\n",
    "    kasim_gelir = (revize_data[\"Toplam Gelir Miktarı\"][7296:8016].sum())/ kasim_üretim\n",
    "    aralik_gelir = (revize_data[\"Toplam Gelir Miktarı\"][8016:8760].sum())/ aralik_üretim\n",
    "    yillik_gelir = (revize_data[\"Toplam Gelir Miktarı\"][0:8760].sum())/ yillik_üretim\n",
    "    \n",
    "    # Birim KUPST #\n",
    "    ocak_kupst = (revize_data[\"KUPST\"][0:744].sum()) / ocak_üretim\n",
    "    subat_kupst = (revize_data[\"KUPST\"][744:1416].sum()) / subat_üretim\n",
    "    mart_kupst = (revize_data[\"KUPST\"][1416:2160].sum()) / mart_üretim\n",
    "    nisan_kupst = (revize_data[\"KUPST\"][2160:2880].sum()) / nisan_üretim\n",
    "    mayis_kupst = (revize_data[\"KUPST\"][2880:3624].sum())/ mayis_üretim\n",
    "    haziran_kupst = (revize_data[\"KUPST\"][3624:4344].sum())/ haziran_üretim\n",
    "    temmuz_kupst = (revize_data[\"KUPST\"][4344:5088].sum())/ temmuz_üretim\n",
    "    agustos_kupst = (revize_data[\"KUPST\"][5088:5832].sum())/ agustos_üretim\n",
    "    eylul_kupst = (revize_data[\"KUPST\"][5832:6552].sum())/ eylul_üretim\n",
    "    ekim_kupst = (revize_data[\"KUPST\"][6552:7296].sum())/ ekim_üretim\n",
    "    kasim_kupst = (revize_data[\"KUPST\"][7296:8016].sum())/ kasim_üretim\n",
    "    aralik_kupst = (revize_data[\"KUPST\"][8016:8760].sum())/ aralik_üretim\n",
    "    yillik_kupst = (revize_data[\"KUPST\"][0:8760].sum())/ yillik_üretim\n",
    "    \n",
    "    # Birim Kazanç #\n",
    "    ocak_birim_kazanc = ocak_gelir - ocak_maliyet\n",
    "    subat_birim_kazanc = subat_gelir - subat_maliyet\n",
    "    mart_birim_kazanc = mart_gelir - mart_maliyet\n",
    "    nisan_birim_kazanc = nisan_gelir - nisan_maliyet\n",
    "    mayis_birim_kazanc = mayis_gelir - mayis_maliyet\n",
    "    haziran_birim_kazanc = haziran_gelir - haziran_maliyet\n",
    "    temmuz_birim_kazanc = temmuz_gelir - temmuz_maliyet\n",
    "    agustos_birim_kazanc = agustos_gelir - agustos_maliyet\n",
    "    eylul_birim_kazanc = eylul_gelir - eylul_maliyet\n",
    "    ekim_birim_kazanc = ekim_gelir - ekim_maliyet\n",
    "    kasim_birim_kazanc = kasim_gelir - kasim_maliyet\n",
    "    aralik_birim_kazanc = aralik_gelir - aralik_maliyet\n",
    "    yillik_birim_kazanc = yillik_gelir - yillik_maliyet\n",
    "    \n",
    "    # Net Kazanç #\n",
    "    ocak_kazanc = f'{(ocak_birim_kazanc * ocak_üretim):.2f}'\n",
    "    subat_kazanc = f'{(subat_birim_kazanc * subat_üretim):.2f}'\n",
    "    mart_kazanc = f'{(mart_birim_kazanc * mart_üretim):.2f}'\n",
    "    nisan_kazanc = f'{(nisan_birim_kazanc * nisan_üretim):.2f}'\n",
    "    mayis_kazanc = f'{(mayis_birim_kazanc * mayis_üretim):.2f}'\n",
    "    haziran_kazanc = f'{(haziran_birim_kazanc * haziran_üretim):.2f}'\n",
    "    temmuz_kazanc = f'{(temmuz_birim_kazanc * temmuz_üretim):.2f}'\n",
    "    agustos_kazanc = f'{(agustos_birim_kazanc * agustos_üretim):.2f}'\n",
    "    eylul_kazanc = f'{(eylul_birim_kazanc * eylul_üretim):.2f}'\n",
    "    ekim_kazanc = f'{(ekim_birim_kazanc * ekim_üretim):.2f}'\n",
    "    kasim_kazanc = f'{(kasim_birim_kazanc * kasim_üretim):.2f}'\n",
    "    aralik_kazanc = f'{(aralik_birim_kazanc * aralik_üretim):.2f}'\n",
    "    yillik_kazanc = f'{(yillik_birim_kazanc * yillik_üretim):.2f}'\n",
    "    \n",
    "    # Değerlerin tabloya yazdırılması #\n",
    "    birim_tablosu['Periyot'] = [\"Ocak\",\"Şubat\",\"Mart\",\"Nisan\",\"Mayıs\",\"Haziran\",\"Temmuz\",\"Ağustos\",\"Eylül\",\"Ekim\",\"Kasım\",\"Aralık\",\"Yıllık\"]\n",
    "    birim_tablosu['Birim Dengesizlik Maliyeti'] = [ocak_maliyet,subat_maliyet,mart_maliyet,nisan_maliyet,mayis_maliyet,haziran_maliyet,temmuz_maliyet,agustos_maliyet,eylul_maliyet,ekim_maliyet,kasim_maliyet,aralik_maliyet,yillik_maliyet]\n",
    "    birim_tablosu['Birim KUPST'] = [ocak_kupst,subat_kupst,mart_kupst,nisan_kupst,mayis_kupst,haziran_kupst,temmuz_kupst,agustos_kupst,eylul_kupst,ekim_kupst,kasim_kupst,aralik_kupst,yillik_kupst]\n",
    "    birim_tablosu['Birim Üretim Geliri'] = [ocak_gelir,subat_gelir,mart_gelir,nisan_gelir,mayis_gelir,haziran_gelir,temmuz_gelir,agustos_gelir,eylul_gelir,ekim_gelir,kasim_gelir,aralik_gelir,yillik_gelir]\n",
    "    birim_tablosu['Birim Net Kazanç'] = [ocak_birim_kazanc,subat_birim_kazanc,mart_birim_kazanc,nisan_birim_kazanc,mayis_birim_kazanc,haziran_birim_kazanc,temmuz_birim_kazanc,agustos_birim_kazanc,eylul_birim_kazanc,ekim_birim_kazanc,kasim_birim_kazanc,aralik_birim_kazanc,yillik_birim_kazanc]\n",
    "    birim_tablosu['Üretim Miktarı'] = [ocak_üretim,subat_üretim,mart_üretim,nisan_üretim,mayis_üretim,haziran_üretim,temmuz_üretim,agustos_üretim,eylul_üretim,ekim_üretim,kasim_üretim,aralik_üretim,yillik_üretim]\n",
    "    birim_tablosu['Net Kazanç'] = [ocak_kazanc,subat_kazanc,mart_kazanc,nisan_kazanc,mayis_kazanc,haziran_kazanc,temmuz_kazanc,agustos_kazanc,eylul_kazanc,ekim_kazanc,kasim_kazanc,aralik_kazanc,yillik_kazanc]\n",
    "    birim_tablosu['Mevsim'] = [\"Kış\",\"Kış\",\"İlkbahar\",\"İlkbahar\",\"İlkbahar\",\"Yaz\",\"Yaz\",\"Yaz\",\"Sonbahar\",\"Sonbahar\",\"Sonbahar\",\"Kış\",\"\"]\n",
    "    \n",
    "    return birim_tablosu"
   ]
  },
  {
   "cell_type": "markdown",
   "id": "2a1a3b51-d8be-49d7-bf60-1eb64805e063",
   "metadata": {
    "jp-MarkdownHeadingCollapsed": true,
    "tags": []
   },
   "source": [
    "### KUPST Hesaplayan Fonksiyon"
   ]
  },
  {
   "cell_type": "code",
   "execution_count": 18,
   "id": "61a3d38a-3055-424a-b69f-1b8cc7914194",
   "metadata": {},
   "outputs": [],
   "source": [
    "def kupst_hesapla(data_set):\n",
    "    üretim = data_set[\"Gerçekleşen Üretim  (MWh)\"]\n",
    "    kgup = data_set[[\"Gün Öncesi Üretim Tahmini (MWh)\",\"Gün İçi Üretim Tahmini Revizesi (MWh)\"]].sum(axis=1)\n",
    "    sapma = abs(üretim-kgup)\n",
    "    kupsm = wind1_dengesizlik.copy()\n",
    "\n",
    "    for i in range(len(sapma)):\n",
    "        if (sapma.iloc[i] > (kgup.iloc[i]*0.1)):\n",
    "            kupsm.iloc[i] = abs(üretim.iloc[i] - kgup.iloc[i]) - (kgup.iloc[i]*0.1)\n",
    "        else:\n",
    "            kupsm.iloc[i] = 0\n",
    "    \n",
    "    kupst = kupsm*max_fiyat*0.03\n",
    "    \n",
    "    return kupst"
   ]
  },
  {
   "cell_type": "markdown",
   "id": "b0fa0d95-a505-4e68-9a51-27d3f48f3ac3",
   "metadata": {
    "jp-MarkdownHeadingCollapsed": true,
    "tags": []
   },
   "source": [
    "### Tasarruf Hesaplayan Fonksiyon"
   ]
  },
  {
   "cell_type": "code",
   "execution_count": 19,
   "id": "29cd2814-b494-439f-b49c-769918e42bec",
   "metadata": {},
   "outputs": [],
   "source": [
    "def tasarruf_hesapla(dengesizlik,dt):  \n",
    "    dsg = dengesizlik_data[\"GAIN Mevcut DSG Imb  (MWh)\"]\n",
    "    toplam_edt = dengesizlik.copy()\n",
    "    dsg_edt = dsg.copy()\n",
    "    toplam_dengesizlik = dsg + dengesizlik\n",
    "    \n",
    "    #DSG EDT Hesapla\n",
    "    for i in range(len(dsg)):\n",
    "        if dsg.iloc[i] > 0:\n",
    "            dsg_edt[i] = dsg.iloc[i] * (pdf.iloc[i]) \n",
    "        elif dsg.iloc[i] < 0:\n",
    "            dsg_edt[i] = dsg.iloc[i] * (ndf.iloc[i])\n",
    "    \n",
    "    #Toplam EDT Hesapla\n",
    "     \n",
    "    for i in range(len(toplam_dengesizlik)):\n",
    "        if toplam_dengesizlik.iloc[i] > 0:\n",
    "            toplam_edt[i] = toplam_dengesizlik.iloc[i] * (pdf.iloc[i]) \n",
    "        elif toplam_dengesizlik.iloc[i] < 0:\n",
    "            toplam_edt[i] = toplam_dengesizlik.iloc[i] * (ndf.iloc[i])\n",
    "    \n",
    "    #Tasarrufu Hesapla\n",
    "    \n",
    "    tasarruf = toplam_edt-(dsg_edt+dt)\n",
    "    \n",
    "    return tasarruf"
   ]
  },
  {
   "cell_type": "markdown",
   "id": "4b84c8ef-36b7-4bd9-bbc1-fb735af0db0f",
   "metadata": {
    "tags": []
   },
   "source": [
    "### DSG Hesaplayan Fonksiyon"
   ]
  },
  {
   "cell_type": "code",
   "execution_count": 20,
   "id": "65debc45-079e-4ae0-92e6-ade31de9252a",
   "metadata": {},
   "outputs": [],
   "source": [
    "def dsg_hesapla(): \n",
    "    pozitif_dengesizlik_toplamı = wind1_dengesizlik_tutari.copy()\n",
    "    negatif_dengesizlik_toplamı = wind1_dengesizlik_tutari.copy()\n",
    "    gain_dsg_dengesizlik = 0\n",
    "    gain_dsg_dt = wind1_dengesizlik_tutari.copy()\n",
    "    super_grup_dm = wind1_dengesizlik_tutari.copy()\n",
    "    ck_dengesizlik_dm = wind1_dengesizlik_tutari.copy()\n",
    "    wind1_tasarruf = wind1_dengesizlik.copy()\n",
    "    wind1_dis_tasarruf = wind1_dengesizlik.copy()\n",
    "    wind2_dis_tasarruf = wind1_dengesizlik.copy()\n",
    "    hydro1_dis_tasarruf = wind1_dengesizlik.copy()\n",
    "    hydro2_dis_tasarruf = wind1_dengesizlik.copy()\n",
    "    super_grup = super_grup_data[\"Super Grup Imb  (MWh)\"]\n",
    "    \n",
    "    gain_dsg_dengesizlik = wind1_dengesizlik + wind2_dengesizlik + hydro1_dengesizlik + hydro2_dengesizlik\n",
    "    \n",
    "    for i in range(len(gain_dsg_dengesizlik)):\n",
    "        if gain_dsg_dengesizlik.iloc[i] > 0:\n",
    "            gain_dsg_dt[i] = gain_dsg_dengesizlik.iloc[i] * pdf.iloc[i]\n",
    "        elif gain_dsg_dengesizlik.iloc[i] < 0:\n",
    "            gain_dsg_dt[i] = gain_dsg_dengesizlik.iloc[i] * ndf.iloc[i]\n",
    "            \n",
    "    gain_dsg_dm = gain_dsg_dengesizlik*fiyat_data[\"Piyasa Takas Fiyatı (TL/MWh)\"] - gain_dsg_dt\n",
    "    \n",
    "    toplam_maliyet = wind1_dengesizlik_maliyeti+wind2_dengesizlik_maliyeti+hydro1_dengesizlik_maliyeti+hydro2_dengesizlik_maliyeti\n",
    "    ic_tasarruf = toplam_maliyet - gain_dsg_dm\n",
    "    for i in range(len(ic_tasarruf)):\n",
    "        if ic_tasarruf.iloc[i] < 0.1:\n",
    "            ic_tasarruf[i] = 0\n",
    "    wind1_tasarruf = (wind1_dengesizlik_maliyeti/toplam_maliyet)*ic_tasarruf\n",
    "    wind1_tasarruf = round(wind1_tasarruf, 2)\n",
    "    \n",
    "    wind2_tasarruf = (wind2_dengesizlik_maliyeti/toplam_maliyet)*ic_tasarruf\n",
    "    wind2_tasarruf = round(wind2_tasarruf, 2)\n",
    "    \n",
    "    hydro1_tasarruf = (hydro1_dengesizlik_maliyeti/toplam_maliyet)*ic_tasarruf\n",
    "    hydro1_tasarruf = round(hydro1_tasarruf, 2)\n",
    "    \n",
    "    hydro2_tasarruf = (hydro2_dengesizlik_maliyeti/toplam_maliyet)*ic_tasarruf\n",
    "    hydro2_tasarruf = round(hydro2_tasarruf, 2)\n",
    "\n",
    "\n",
    "    for i in range(len(super_grup)):\n",
    "        if super_grup.iloc[i] > 0:\n",
    "            super_grup_dm[i] = (super_grup.iloc[i]*fiyat_data[\"Piyasa Takas Fiyatı (TL/MWh)\"].iloc[i]) - super_grup.iloc[i] * pdf.iloc[i]\n",
    "        elif super_grup.iloc[i] < 0:\n",
    "            super_grup_dm[i] = (super_grup.iloc[i]*fiyat_data[\"Piyasa Takas Fiyatı (TL/MWh)\"].iloc[i]) - super_grup.iloc[i] * ndf.iloc[i]\n",
    "            \n",
    "    ck_dengesizlik = super_grup + gain_dsg_dengesizlik\n",
    "    for i in range(len(ck_dengesizlik)):\n",
    "        if ck_dengesizlik.iloc[i] > 0:\n",
    "            ck_dengesizlik_dm[i] = (ck_dengesizlik.iloc[i]*fiyat_data[\"Piyasa Takas Fiyatı (TL/MWh)\"].iloc[i]) - ck_dengesizlik.iloc[i] * pdf.iloc[i]\n",
    "        elif ck_dengesizlik.iloc[i] < 0:\n",
    "            ck_dengesizlik_dm[i] = (ck_dengesizlik.iloc[i]*fiyat_data[\"Piyasa Takas Fiyatı (TL/MWh)\"].iloc[i]) - ck_dengesizlik.iloc[i] * ndf.iloc[i]\n",
    "    dis_tasarruf = (super_grup_dm+gain_dsg_dm-ck_dengesizlik_dm)*6/10\n",
    "    for i in range(len(dis_tasarruf)):\n",
    "        if dis_tasarruf.iloc[i] < 0.1:\n",
    "            dis_tasarruf[i] = 0\n",
    "\n",
    "    for i in range(len(pozitif_dengesizlik_toplamı)):\n",
    "        pozitif_dengesizlik_toplamı.iloc[i] = 0\n",
    "        negatif_dengesizlik_toplamı.iloc[i] = 0\n",
    "        if wind1_dengesizlik.iloc[i] > 0:\n",
    "            pozitif_dengesizlik_toplamı.iloc[i] = pozitif_dengesizlik_toplamı.iloc[i] + wind1_dengesizlik.iloc[i]\n",
    "        elif wind1_dengesizlik.iloc[i] < 0:  \n",
    "            negatif_dengesizlik_toplamı.iloc[i] = negatif_dengesizlik_toplamı.iloc[i] + wind1_dengesizlik.iloc[i]\n",
    "        if wind2_dengesizlik.iloc[i] > 0:\n",
    "            pozitif_dengesizlik_toplamı.iloc[i] = pozitif_dengesizlik_toplamı.iloc[i] + wind2_dengesizlik.iloc[i]\n",
    "        elif wind2_dengesizlik.iloc[i] < 0:  \n",
    "            negatif_dengesizlik_toplamı.iloc[i] = negatif_dengesizlik_toplamı.iloc[i] + wind2_dengesizlik.iloc[i]\n",
    "        if hydro1_dengesizlik.iloc[i] > 0:\n",
    "            pozitif_dengesizlik_toplamı.iloc[i] = pozitif_dengesizlik_toplamı.iloc[i] +hydro1_dengesizlik.iloc[i]\n",
    "        elif hydro1_dengesizlik.iloc[i] < 0:  \n",
    "            negatif_dengesizlik_toplamı.iloc[i] = negatif_dengesizlik_toplamı.iloc[i] + hydro1_dengesizlik.iloc[i]\n",
    "        if hydro2_dengesizlik.iloc[i] > 0:\n",
    "            pozitif_dengesizlik_toplamı.iloc[i] = pozitif_dengesizlik_toplamı.iloc[i] +hydro2_dengesizlik.iloc[i]\n",
    "        elif hydro2_dengesizlik.iloc[i] < 0:  \n",
    "            negatif_dengesizlik_toplamı.iloc[i] = negatif_dengesizlik_toplamı.iloc[i] + hydro2_dengesizlik.iloc[i]\n",
    "    \n",
    "    for i in range(len(dis_tasarruf)):\n",
    "        if dis_tasarruf.iloc[i] > 0:\n",
    "            if gain_dsg_dengesizlik.iloc[i] > 0 and wind1_dengesizlik.iloc[i] > 0:\n",
    "                wind1_dis_tasarruf.iloc[i] = (wind1_dengesizlik.iloc[i]/pozitif_dengesizlik_toplamı.iloc[i]) * dis_tasarruf.iloc[i]\n",
    "            elif gain_dsg_dengesizlik.iloc[i] < 0 and wind1_dengesizlik.iloc[i] < 0: \n",
    "                wind1_dis_tasarruf.iloc[i] = (wind1_dengesizlik.iloc[i]/negatif_dengesizlik_toplamı.iloc[i]) * dis_tasarruf.iloc[i]\n",
    "            else:\n",
    "                wind1_dis_tasarruf.iloc[i] = 0\n",
    "                \n",
    "            if gain_dsg_dengesizlik.iloc[i] > 0 and wind2_dengesizlik.iloc[i] > 0:\n",
    "                wind2_dis_tasarruf.iloc[i] = (wind2_dengesizlik.iloc[i]/pozitif_dengesizlik_toplamı.iloc[i]) * dis_tasarruf.iloc[i]\n",
    "            elif gain_dsg_dengesizlik.iloc[i] < 0 and wind2_dengesizlik.iloc[i] < 0: \n",
    "                wind2_dis_tasarruf.iloc[i] = (wind2_dengesizlik.iloc[i]/negatif_dengesizlik_toplamı.iloc[i]) * dis_tasarruf.iloc[i]\n",
    "            else:\n",
    "                wind2_dis_tasarruf.iloc[i] = 0\n",
    "                \n",
    "            if gain_dsg_dengesizlik.iloc[i] > 0 and hydro1_dengesizlik.iloc[i] > 0:\n",
    "                hydro1_dis_tasarruf.iloc[i] = (hydro1_dengesizlik.iloc[i]/pozitif_dengesizlik_toplamı.iloc[i]) * dis_tasarruf.iloc[i]\n",
    "            elif gain_dsg_dengesizlik.iloc[i] < 0 and hydro1_dengesizlik.iloc[i] < 0: \n",
    "                hydro1_dis_tasarruf.iloc[i] = (hydro1_dengesizlik.iloc[i]/negatif_dengesizlik_toplamı.iloc[i]) * dis_tasarruf.iloc[i]\n",
    "            else:\n",
    "                hydro1_dis_tasarruf.iloc[i] = 0\n",
    "                \n",
    "            if gain_dsg_dengesizlik.iloc[i] > 0 and hydro2_dengesizlik.iloc[i] > 0:\n",
    "                hydro2_dis_tasarruf.iloc[i] = (hydro2_dengesizlik.iloc[i]/pozitif_dengesizlik_toplamı.iloc[i]) * dis_tasarruf.iloc[i]\n",
    "            elif gain_dsg_dengesizlik.iloc[i] < 0 and hydro2_dengesizlik.iloc[i] < 0: \n",
    "                hydro2_dis_tasarruf.iloc[i] = (hydro2_dengesizlik.iloc[i]/negatif_dengesizlik_toplamı.iloc[i]) * dis_tasarruf.iloc[i]\n",
    "            else:\n",
    "                hydro2_dis_tasarruf.iloc[i] = 0\n",
    "                 \n",
    "        else:\n",
    "            wind1_dis_tasarruf.iloc[i] = wind2_dis_tasarruf.iloc[i] = hydro1_dis_tasarruf.iloc[i] = hydro2_dis_tasarruf.iloc[i] = 0\n",
    "            \n",
    "    #DSG Tablosu\n",
    "    \n",
    "    dsg = dengesizlik_data.copy()\n",
    "    dsg = dsg.drop(dsg.columns[2], axis=1)\n",
    "    dsg[\"Wind1 Dengesizlik\"] = wind1_dengesizlik\n",
    "    dsg[\"Wind2 Dengesizlik\"] = wind2_dengesizlik\n",
    "    dsg[\"Hydro1 Dengesizlik\"] = hydro1_dengesizlik\n",
    "    dsg[\"Hydro2 Dengesizlik\"] = hydro2_dengesizlik\n",
    "    dsg[\"Pozitif Dengesizlik Toplamı\"] = pozitif_dengesizlik_toplamı\n",
    "    dsg[\"Negatif Dengesizlik Toplamı\"] = negatif_dengesizlik_toplamı\n",
    "    dsg[\"Gain DSG Dengesizlik\"] = gain_dsg_dengesizlik\n",
    "    dsg[\"Wind1 Dengesizlik Maliyeti\"] = wind1_dengesizlik_maliyeti\n",
    "    dsg[\"Wind2 Dengesizlik Maliyeti\"] = wind2_dengesizlik_maliyeti\n",
    "    dsg[\"Hydro1 Dengesizlik Maliyeti\"] = hydro1_dengesizlik_maliyeti\n",
    "    dsg[\"Hydro2 Dengesizlik Maliyeti\"] = hydro2_dengesizlik_maliyeti\n",
    "    dsg[\"Gain DSG Dengesizlik Maliyeti\"] = gain_dsg_dm\n",
    "    dsg[\"Wind1 İç Tasarruf\"] = wind1_tasarruf\n",
    "    dsg[\"Wind2 İç Tasarruf\"] = wind2_tasarruf\n",
    "    dsg[\"Hydro1 İç Tasarruf\"] = hydro1_tasarruf\n",
    "    dsg[\"Hydro2 İç Tasarruf\"] = hydro2_tasarruf\n",
    "    dsg[\"Toplam İç Tasarruf\"] = ic_tasarruf\n",
    "    dsg[\"Süper Grup Dengesizlik\"] = super_grup\n",
    "    dsg[\"CK Dengesizlik\"] = ck_dengesizlik\n",
    "    dsg[\"Süper Grup Dengesizlik Maliyeti\"] = super_grup_dm\n",
    "    dsg[\"CK Dengesizlik Maliyeti\"] = ck_dengesizlik_dm\n",
    "    dsg[\"Wind1 Dış Tasarruf\"] = wind1_dis_tasarruf\n",
    "    dsg[\"Wind2 Dış Tasarruf\"] = wind2_dis_tasarruf\n",
    "    dsg[\"Hydro1 Dış Tasarruf\"] = hydro1_dis_tasarruf\n",
    "    dsg[\"Hydro2 Dış Tasarruf\"] = hydro2_dis_tasarruf\n",
    "    dsg[\"Toplam Dış Tasarruf\"] = dis_tasarruf\n",
    "    \n",
    "    return dsg"
   ]
  },
  {
   "cell_type": "markdown",
   "id": "de6222e4-a584-4e3a-8cd2-3e0724c38847",
   "metadata": {
    "jp-MarkdownHeadingCollapsed": true,
    "tags": []
   },
   "source": [
    "### Servis Ücreti Hesaplayan Fonksiyon"
   ]
  },
  {
   "cell_type": "code",
   "execution_count": 21,
   "id": "897f3e3c-2fc1-4205-a9fa-e6cad5826834",
   "metadata": {},
   "outputs": [],
   "source": [
    "def service_fee_hesapla(degisken,sabit,üretim):\n",
    "    #Servis ücreti =  (Değişken * PTF + Sabit + Bayi Payı)*Üretim    \n",
    "    \n",
    "    service_fee = ((degisken * fiyat_data[\"Piyasa Takas Fiyatı (TL/MWh)\"]) + sabit) * üretim\n",
    "    return service_fee"
   ]
  },
  {
   "cell_type": "markdown",
   "id": "7d293367-fef0-4ab1-a1f3-67e7a12d6a18",
   "metadata": {
    "jp-MarkdownHeadingCollapsed": true,
    "tags": []
   },
   "source": [
    "### Finansman Geliri Hesaplayan Fonksiyon"
   ]
  },
  {
   "cell_type": "code",
   "execution_count": 22,
   "id": "a3291d60-c40c-43fc-b6d3-ff3ea60ec238",
   "metadata": {},
   "outputs": [],
   "source": [
    "def finansman_geliri_hesapla(data):\n",
    "    tablo = data[[\"Tarih\",\"Gün Öncesi Üretim Tahmini (MWh)\"]]\n",
    "    gelir = data[\"Gün Öncesi Üretim Tahmini (MWh)\"] * fiyat_data[\"Piyasa Takas Fiyatı (TL/MWh)\"]\n",
    "    weekday = wind1_dengesizlik.copy()\n",
    "    odeme_gunu = wind1_dengesizlik.copy()\n",
    "    faiz_geliri = wind1_dengesizlik.copy()\n",
    "    faiz = (20/100)/365\n",
    "    # deneme = data[\"Tarih\"] + pd.Timedelta(3, unit=\"D\")\n",
    "    for i in range(len(data[\"Tarih\"])):\n",
    "        weekday[i] = data[\"Tarih\"][i].weekday()\n",
    "    \n",
    "    for i in range(len(data[\"Tarih\"])):\n",
    "        if weekday[i] < 3 or weekday[i] == 6:\n",
    "            odeme_gunu[i] = data[\"Tarih\"][i] + pd.Timedelta(2, unit=\"D\")\n",
    "        elif weekday[i] == 3 or weekday[i] ==4:\n",
    "            odeme_gunu[i] = data[\"Tarih\"][i] + pd.Timedelta(4, unit=\"D\")\n",
    "        elif weekday[i] == 5:\n",
    "            odeme_gunu[i] = data[\"Tarih\"][i] + pd.Timedelta(3, unit=\"D\")\n",
    "    \n",
    "    # deneme = data[\"Tarih\"][30] - data[\"Tarih\"][1]\n",
    "    for i in range(len(data[\"Tarih\"])):\n",
    "        faiz_geliri[i] = data[\"Gün Öncesi Üretim Tahmini (MWh)\"][i] * (data[\"Tarih\"][i] + relativedelta.relativedelta(months=1, day=20) - odeme_gunu[i]).days * faiz * fiyat_data[\"Piyasa Takas Fiyatı (TL/MWh)\"][i]\n",
    "        faiz_geliri[i] = round( faiz_geliri[i] , 2)\n",
    "    return faiz_geliri"
   ]
  },
  {
   "attachments": {},
   "cell_type": "markdown",
   "id": "296edc0e",
   "metadata": {},
   "source": [
    "### Gain Gip Hesaplayan Fonksiyon"
   ]
  },
  {
   "cell_type": "code",
   "execution_count": 23,
   "id": "87e4805d",
   "metadata": {},
   "outputs": [],
   "source": [
    "def gain_gip_hesapla():\n",
    "    gip_alis_miktari = wind1_dengesizlik.copy()\n",
    "    gip_satis_miktari = wind1_dengesizlik.copy()\n",
    "    gip_alis_tutari = wind1_dengesizlik.copy()\n",
    "    gip_satis_tutari = wind1_dengesizlik.copy()\n",
    "    gain_gip = wind1_data.copy()\n",
    "    gip_alis_fiyati = fiyat_data[\"Piyasa Takas Fiyatı (TL/MWh)\"]*0.9\n",
    "    gip_satis_fiyati = fiyat_data[\"Piyasa Takas Fiyatı (TL/MWh)\"]*1.03\n",
    "    net_gip_miktari = gip_data[\"Net Saatlik GİP Miktarı\"]\n",
    "    net_gip_fiyati = gip_data[\"Net Saatlik GİP Fiyatı (TL/MWh)\"]\n",
    "   \n",
    "    \n",
    "\n",
    "    for i in range(len(gip_alis_miktari)):\n",
    "        gip_alis_miktari.iloc[i] = 0\n",
    "        if wind1_data[\"Gün İçi Üretim Tahmini Revizesi (MWh)\"].iloc[i] > 0:\n",
    "            gip_alis_miktari.iloc[i] = wind1_data[\"Gün İçi Üretim Tahmini Revizesi (MWh)\"].iloc[i]*-1\n",
    "        if wind2_data[\"Gün İçi Üretim Tahmini Revizesi (MWh)\"].iloc[i] > 0:\n",
    "            gip_alis_miktari.iloc[i] += wind2_data[\"Gün İçi Üretim Tahmini Revizesi (MWh)\"].iloc[i]*-1\n",
    "        if hydro1_data[\"Gün İçi Üretim Tahmini Revizesi (MWh)\"].iloc[i] > 0:\n",
    "            gip_alis_miktari.iloc[i] += hydro1_data[\"Gün İçi Üretim Tahmini Revizesi (MWh)\"].iloc[i]*-1\n",
    "        if hydro2_data[\"Gün İçi Üretim Tahmini Revizesi (MWh)\"].iloc[i] > 0:\n",
    "            gip_alis_miktari.iloc[i] += hydro2_data[\"Gün İçi Üretim Tahmini Revizesi (MWh)\"].iloc[i]*-1\n",
    "\n",
    "    for i in range(len(gip_satis_miktari)):\n",
    "        gip_satis_miktari.iloc[i] = 0\n",
    "        if wind1_data[\"Gün İçi Üretim Tahmini Revizesi (MWh)\"].iloc[i] < 0:\n",
    "            gip_satis_miktari.iloc[i] = wind1_data[\"Gün İçi Üretim Tahmini Revizesi (MWh)\"].iloc[i]*-1\n",
    "        if wind2_data[\"Gün İçi Üretim Tahmini Revizesi (MWh)\"].iloc[i] < 0:\n",
    "            gip_satis_miktari.iloc[i] += wind2_data[\"Gün İçi Üretim Tahmini Revizesi (MWh)\"].iloc[i]*-1\n",
    "        if hydro1_data[\"Gün İçi Üretim Tahmini Revizesi (MWh)\"].iloc[i] < 0:\n",
    "            gip_satis_miktari.iloc[i] += hydro1_data[\"Gün İçi Üretim Tahmini Revizesi (MWh)\"].iloc[i]*-1\n",
    "        if hydro2_data[\"Gün İçi Üretim Tahmini Revizesi (MWh)\"].iloc[i] < 0:\n",
    "            gip_satis_miktari.iloc[i] += hydro2_data[\"Gün İçi Üretim Tahmini Revizesi (MWh)\"].iloc[i]*-1\n",
    "    \n",
    "    gip_alis_tutari = gip_alis_miktari*gip_alis_fiyati\n",
    "    gip_satis_tutari = gip_satis_miktari*gip_satis_fiyati\n",
    "    net_gip_tutari = net_gip_fiyati*net_gip_miktari\n",
    "    net_gip_pnl = net_gip_tutari - (net_gip_miktari*fiyat_data[\"Piyasa Takas Fiyatı (TL/MWh)\"])\n",
    "\n",
    "    gain_gip.drop(\"Gün Öncesi Üretim Tahmini (MWh)\", inplace=True, axis=1)\n",
    "    gain_gip.drop(\"Gün İçi Üretim Tahmini Revizesi (MWh)\", inplace=True, axis=1)\n",
    "    gain_gip.drop(\"Gerçekleşen Üretim  (MWh)\", inplace=True, axis=1)\n",
    "\n",
    "    gain_gip[\"Blok GİP Alış Miktarı\"] = gip_alis_miktari\n",
    "    gain_gip[\"Blok GİP Alış Tutarı\"] = gip_alis_tutari\n",
    "    gain_gip[\"Blok GİP Alış Fiyatı\"] = gip_alis_fiyati\n",
    "    gain_gip[\"Blok GİP Satış Miktarı\"] = gip_satis_miktari\n",
    "    gain_gip[\"Blok GİP Satış Tutarı\"] = gip_satis_tutari\n",
    "    gain_gip[\"Blok GİP Satış Fiyatı\"] = gip_satis_fiyati\n",
    "    gain_gip[\"Net Saatlik Gip Miktarı\"] = net_gip_miktari\n",
    "    gain_gip[\"Net Saatlik Gip Tutarı\"] = net_gip_tutari\n",
    "    gain_gip[\"Net Saatlik GİP Fiyatı (TL/MWh)\"] = net_gip_fiyati\n",
    "    gain_gip[\"Gain Saatlik GİP PnL\"] = net_gip_pnl\n",
    "    \n",
    "\n",
    "    return gain_gip\n",
    "    \n",
    "    "
   ]
  },
  {
   "attachments": {},
   "cell_type": "markdown",
   "id": "19d589ae",
   "metadata": {},
   "source": [
    "### Net PnL Hesaplayan Fonksiyon"
   ]
  },
  {
   "cell_type": "code",
   "execution_count": 56,
   "id": "659fa0cf",
   "metadata": {},
   "outputs": [],
   "source": [
    "def pnl_hesapla(max_kazanc,ic_tasarruf,küpst,finansal_fayda,servis_ücreti,dengesizlik_maliyeti,gip,dış_tasarruf):\n",
    "    net_pnl = max_kazanc + ic_tasarruf + küpst + finansal_fayda + servis_ücreti + dengesizlik_maliyeti + gip + dış_tasarruf\n",
    "\n",
    "    return net_pnl"
   ]
  },
  {
   "cell_type": "markdown",
   "id": "4720895f-d6a5-441c-86a8-464f595a2e8a",
   "metadata": {
    "tags": []
   },
   "source": [
    "## Calculations"
   ]
  },
  {
   "cell_type": "markdown",
   "id": "4d774eb8-2d71-42a9-bda3-9f7d47965639",
   "metadata": {
    "jp-MarkdownHeadingCollapsed": true,
    "tags": []
   },
   "source": [
    "### Dengesizlikler"
   ]
  },
  {
   "cell_type": "code",
   "execution_count": 24,
   "id": "7536be3b-7b5e-4ffa-a6a8-0c885c5f3f5c",
   "metadata": {},
   "outputs": [],
   "source": [
    "wind1_dengesizlik = dengesizlik_hesapla(wind1_data)\n",
    "wind2_dengesizlik = dengesizlik_hesapla(wind2_data)\n",
    "hydro1_dengesizlik = dengesizlik_hesapla(hydro1_data)\n",
    "hydro2_dengesizlik = dengesizlik_hesapla(hydro2_data)\n",
    "\n",
    "#Toplam Demgesizlik Miktarı\n",
    "gain_dsg = wind1_dengesizlik+wind2_dengesizlik+hydro1_dengesizlik+hydro2_dengesizlik"
   ]
  },
  {
   "cell_type": "markdown",
   "id": "e55c85f8-a113-432f-8d86-8759e211a0da",
   "metadata": {
    "jp-MarkdownHeadingCollapsed": true,
    "tags": []
   },
   "source": [
    "### Dengesizlik Tutarları"
   ]
  },
  {
   "cell_type": "code",
   "execution_count": 25,
   "id": "b3837906-753d-4913-a82a-ce0e8fb0d08a",
   "metadata": {},
   "outputs": [],
   "source": [
    "wind1_dengesizlik_tutari = dengesizlik_tutari_hesapla(wind1_dengesizlik)\n",
    "wind2_dengesizlik_tutari = dengesizlik_tutari_hesapla(wind2_dengesizlik)\n",
    "hydro1_dengesizlik_tutari = dengesizlik_tutari_hesapla(hydro1_dengesizlik)\n",
    "hydro2_dengesizlik_tutari = dengesizlik_tutari_hesapla(hydro2_dengesizlik)"
   ]
  },
  {
   "cell_type": "markdown",
   "id": "35db9c9b-a4b7-49ee-9525-642c395cc5b1",
   "metadata": {
    "jp-MarkdownHeadingCollapsed": true,
    "tags": []
   },
   "source": [
    "### GİP"
   ]
  },
  {
   "cell_type": "code",
   "execution_count": 26,
   "id": "842872b8-10c7-4c84-9101-3b84afa6c132",
   "metadata": {},
   "outputs": [],
   "source": [
    "# wind1_gip = gip_hesapla(wind1_data)\n",
    "# wind2_gip = gip_hesapla(wind2_data)\n",
    "# hydro1_gip = gip_hesapla(hydro1_data)\n",
    "# hydro2_gip = gip_hesapla(hydro2_data)\n",
    "\n",
    "gain_gip = gain_gip_hesapla()\n",
    "gip_tablo = gip_hesapla()"
   ]
  },
  {
   "cell_type": "markdown",
   "id": "131f1b51-069a-4ada-8cbd-da16606dd4f7",
   "metadata": {
    "jp-MarkdownHeadingCollapsed": true,
    "tags": []
   },
   "source": [
    "### Toplam Gelirler"
   ]
  },
  {
   "cell_type": "code",
   "execution_count": 54,
   "id": "d3ecd30d-5983-4fa1-b5f6-e4441a9ccf58",
   "metadata": {},
   "outputs": [],
   "source": [
    "wind1_toplam_gelir = toplam_gelir_hesapla(wind1_data,wind1_dengesizlik_tutari,gip_tablo[\"Wind1 Gip PnL\"])\n",
    "wind2_toplam_gelir = toplam_gelir_hesapla(wind2_data,wind2_dengesizlik_tutari,gip_tablo[\"Wind2 Gip PnL\"])\n",
    "hydro1_toplam_gelir = toplam_gelir_hesapla(hydro1_data,hydro1_dengesizlik_tutari,gip_tablo[\"Hydro1 Gip PnL\"])\n",
    "hydro2_toplam_gelir = toplam_gelir_hesapla(hydro2_data,hydro2_dengesizlik_tutari,gip_tablo[\"Hydro2 Gip PnL\"])"
   ]
  },
  {
   "cell_type": "markdown",
   "id": "5f1f803b-d400-4809-bc6a-d21205634a27",
   "metadata": {
    "jp-MarkdownHeadingCollapsed": true,
    "tags": []
   },
   "source": [
    "### Maksimum Gelirler"
   ]
  },
  {
   "cell_type": "code",
   "execution_count": 59,
   "id": "b73c57fa-b929-4d9e-bc28-03abef5f5059",
   "metadata": {},
   "outputs": [],
   "source": [
    "wind1_max_gelir = maksimum_kazanc_hesapla(wind1_data)\n",
    "wind2_max_gelir = maksimum_kazanc_hesapla(wind2_data)\n",
    "hydro1_max_gelir = maksimum_kazanc_hesapla(hydro1_data)\n",
    "hydro2_max_gelir = maksimum_kazanc_hesapla(hydro2_data)"
   ]
  },
  {
   "cell_type": "markdown",
   "id": "5816078d-b880-48d2-a0de-dffcce6ed7b2",
   "metadata": {
    "jp-MarkdownHeadingCollapsed": true,
    "tags": []
   },
   "source": [
    "### Dengesizlik Maliyetleri"
   ]
  },
  {
   "cell_type": "code",
   "execution_count": 62,
   "id": "5b4f03a7-4ee9-4f81-ac2d-000155119da9",
   "metadata": {},
   "outputs": [],
   "source": [
    "wind1_dengesizlik_maliyeti = dengesizlik_maliyeti_hesapla(wind1_max_gelir,wind1_toplam_gelir)\n",
    "wind2_dengesizlik_maliyeti = dengesizlik_maliyeti_hesapla(wind2_max_gelir,wind2_toplam_gelir)\n",
    "hydro1_dengesizlik_maliyeti = dengesizlik_maliyeti_hesapla(hydro1_max_gelir,hydro1_toplam_gelir)\n",
    "hydro2_dengesizlik_maliyeti = dengesizlik_maliyeti_hesapla(hydro2_max_gelir,hydro2_toplam_gelir)"
   ]
  },
  {
   "cell_type": "markdown",
   "id": "0b48b9de-671c-47e3-b9d9-fb1f97dc064c",
   "metadata": {
    "tags": []
   },
   "source": [
    "### KUPST"
   ]
  },
  {
   "cell_type": "code",
   "execution_count": 65,
   "id": "fe733826-6fcf-4093-9f3c-94a06c55ce2c",
   "metadata": {},
   "outputs": [],
   "source": [
    "wind1_kupst = kupst_hesapla(wind1_data)\n",
    "wind2_kupst = kupst_hesapla(wind2_data)\n",
    "hydro1_kupst = kupst_hesapla(hydro1_data)\n",
    "hydro2_kupst = kupst_hesapla(hydro2_data)"
   ]
  },
  {
   "cell_type": "markdown",
   "id": "3efa4a0d-6cb2-4b61-a360-4a589d2e68d1",
   "metadata": {
    "jp-MarkdownHeadingCollapsed": true,
    "tags": []
   },
   "source": [
    "### Tasarruflar"
   ]
  },
  {
   "cell_type": "code",
   "execution_count": 71,
   "id": "5bc7fd57-eb28-4a38-95ef-e9b2f5eb9147",
   "metadata": {},
   "outputs": [],
   "source": [
    "wind1_tasarruf = tasarruf_hesapla(wind1_dengesizlik,wind1_dengesizlik_tutari)\n",
    "wind2_tasarruf = tasarruf_hesapla(wind2_dengesizlik,wind2_dengesizlik_tutari)\n",
    "hydro1_tasarruf = tasarruf_hesapla(hydro1_dengesizlik,hydro1_dengesizlik_tutari)\n",
    "hydro2_tasarruf = tasarruf_hesapla(hydro2_dengesizlik,hydro2_dengesizlik_tutari)"
   ]
  },
  {
   "cell_type": "markdown",
   "id": "bed425eb-cf97-4a79-8ea1-193ab5ad2bb7",
   "metadata": {
    "tags": []
   },
   "source": [
    "### DSG"
   ]
  },
  {
   "cell_type": "code",
   "execution_count": 63,
   "id": "3edf55d8-85a2-47f4-943f-c8c4e1b17b54",
   "metadata": {},
   "outputs": [],
   "source": [
    "dsg = dsg_hesapla()"
   ]
  },
  {
   "cell_type": "markdown",
   "id": "a06fd42d-7efc-4695-aea9-6a59d9ff78ea",
   "metadata": {
    "jp-MarkdownHeadingCollapsed": true,
    "tags": []
   },
   "source": [
    "### Finansman Gelirleri"
   ]
  },
  {
   "cell_type": "code",
   "execution_count": 67,
   "id": "6510cdf2-56ed-43fe-8da3-23570451489d",
   "metadata": {},
   "outputs": [],
   "source": [
    "wind1_finansman_geliri = finansman_geliri_hesapla(wind1_data)\n",
    "wind2_finansman_geliri = finansman_geliri_hesapla(wind2_data)\n",
    "hydro1_finansman_geliri = finansman_geliri_hesapla(hydro1_data)\n",
    "hydro2_finansman_geliri = finansman_geliri_hesapla(hydro2_data)"
   ]
  },
  {
   "cell_type": "markdown",
   "id": "2a5252c8-7444-4fbe-91fc-d6e727ee4895",
   "metadata": {
    "jp-MarkdownHeadingCollapsed": true,
    "tags": []
   },
   "source": [
    "### Servis Ücretleri"
   ]
  },
  {
   "cell_type": "code",
   "execution_count": 68,
   "id": "00f34585-ad80-4d65-bcfc-cd9a10468017",
   "metadata": {},
   "outputs": [],
   "source": [
    "wind1_service_fee = service_fee_hesapla(wind1_fee_var, wind1_fee_const, wind1_data[\"Gerçekleşen Üretim  (MWh)\"])\n",
    "wind2_service_fee = service_fee_hesapla(wind2_fee_var, wind2_fee_const, wind2_data[\"Gerçekleşen Üretim  (MWh)\"])\n",
    "hydro1_service_fee = service_fee_hesapla(hydro1_fee_var, hydro2_fee_const, hydro1_data[\"Gerçekleşen Üretim  (MWh)\"])\n",
    "hydro2_service_fee = service_fee_hesapla(hydro2_fee_var, hydro2_fee_const, hydro2_data[\"Gerçekleşen Üretim  (MWh)\"])"
   ]
  },
  {
   "cell_type": "code",
   "execution_count": 72,
   "id": "e4f0e3a6",
   "metadata": {},
   "outputs": [],
   "source": [
    "wind1_data_revize = wind1_data.copy()\n",
    "wind2_data_revize = wind2_data.copy()\n",
    "hydro1_data_revize = hydro1_data.copy()\n",
    "hydro2_data_revize = hydro2_data.copy()\n",
    "\n",
    "wind1_data_revize[\"Dengesizlik Tutarı\"] = wind1_dengesizlik_tutari\n",
    "wind2_data_revize[\"Dengesizlik Tutarı\"] = wind2_dengesizlik_tutari\n",
    "hydro1_data_revize[\"Dengesizlik Tutarı\"] = hydro1_dengesizlik_tutari\n",
    "hydro2_data_revize[\"Dengesizlik Tutarı\"] = hydro2_dengesizlik_tutari\n",
    "\n",
    "wind1_data_revize[\"Dengesizlik Maliyeti\"] = wind1_dengesizlik_maliyeti\n",
    "wind2_data_revize[\"Dengesizlik Maliyeti\"] = wind2_dengesizlik_maliyeti\n",
    "hydro1_data_revize[\"Dengesizlik Maliyeti\"] = hydro1_dengesizlik_maliyeti\n",
    "hydro2_data_revize[\"Dengesizlik Maliyeti\"] = hydro2_dengesizlik_maliyeti\n",
    "\n",
    "wind1_data_revize[\"KUPST\"] = wind1_kupst\n",
    "wind2_data_revize[\"KUPST\"] = wind2_kupst\n",
    "hydro1_data_revize[\"KUPST\"] = hydro1_kupst\n",
    "hydro2_data_revize[\"KUPST\"] = hydro2_kupst\n",
    "\n",
    "wind1_data_revize[\"Toplam Gelir Miktarı\"] = wind1_toplam_gelir\n",
    "wind2_data_revize[\"Toplam Gelir Miktarı\"] = wind2_toplam_gelir\n",
    "hydro1_data_revize[\"Toplam Gelir Miktarı\"] = hydro1_toplam_gelir\n",
    "hydro2_data_revize[\"Toplam Gelir Miktarı\"] = hydro2_toplam_gelir\n",
    "\n",
    "wind1_data_revize[\"DSG Etkisi\"] = wind1_tasarruf\n",
    "wind2_data_revize[\"DSG Etkisi\"] = wind2_tasarruf\n",
    "hydro1_data_revize[\"DSG Etkisi\"] = hydro1_tasarruf\n",
    "hydro2_data_revize[\"DSG Etkisi\"] = hydro2_tasarruf\n",
    "\n",
    "wind1_birim = birim_tablosu_hesapla(wind1_data_revize)\n",
    "wind2_birim = birim_tablosu_hesapla(wind2_data_revize)\n",
    "hydro1_birim = birim_tablosu_hesapla(hydro1_data_revize)\n",
    "hydro2_birim = birim_tablosu_hesapla(hydro2_data_revize)"
   ]
  },
  {
   "attachments": {},
   "cell_type": "markdown",
   "id": "f94cacd6",
   "metadata": {},
   "source": [
    "### Net PNL"
   ]
  },
  {
   "cell_type": "code",
   "execution_count": 76,
   "id": "a341e3ba",
   "metadata": {},
   "outputs": [],
   "source": [
    "wind1_pnl = pnl_hesapla(wind1_max_gelir,dsg[\"Wind1 İç Tasarruf\"],wind1_kupst,wind1_finansman_geliri,wind1_service_fee,wind1_dengesizlik_maliyeti,gip_tablo[\"Wind1 Gip PnL\"],dsg[\"Wind1 Dış Tasarruf\"])\n",
    "wind2_pnl = pnl_hesapla(wind2_max_gelir,dsg[\"Wind2 İç Tasarruf\"],wind2_kupst,wind1_finansman_geliri,wind2_service_fee,wind2_dengesizlik_maliyeti,gip_tablo[\"Wind2 Gip PnL\"],dsg[\"Wind2 Dış Tasarruf\"])\n",
    "hydro1_pnl = pnl_hesapla(hydro1_max_gelir,dsg[\"Hydro1 İç Tasarruf\"],hydro1_kupst,hydro1_finansman_geliri,hydro1_service_fee,hydro1_dengesizlik_maliyeti,gip_tablo[\"Hydro1 Gip PnL\"],dsg[\"Hydro1 Dış Tasarruf\"])\n",
    "hydro2_pnl = pnl_hesapla(hydro2_max_gelir,dsg[\"Hydro2 İç Tasarruf\"],hydro2_kupst,hydro2_finansman_geliri,hydro2_service_fee,hydro2_dengesizlik_maliyeti,gip_tablo[\"Hydro2 Gip PnL\"],dsg[\"Hydro2 Dış Tasarruf\"])"
   ]
  },
  {
   "attachments": {},
   "cell_type": "markdown",
   "id": "1a0474ec",
   "metadata": {},
   "source": [
    "### Net Birim PnL"
   ]
  },
  {
   "cell_type": "code",
   "execution_count": 78,
   "id": "9c1c5c64",
   "metadata": {},
   "outputs": [],
   "source": [
    "wind1_net_birim_pnl = wind1_pnl/wind1_data[\"Gerçekleşen Üretim  (MWh)\"]\n",
    "wind2_net_birim_pnl = wind2_pnl/wind2_data[\"Gerçekleşen Üretim  (MWh)\"]\n",
    "hydro1_net_birim_pnl = hydro1_pnl/hydro1_data[\"Gerçekleşen Üretim  (MWh)\"]\n",
    "hydro2_net_birim_pnl = hydro2_pnl/hydro2_data[\"Gerçekleşen Üretim  (MWh)\"]"
   ]
  },
  {
   "cell_type": "markdown",
   "id": "85005c31-800b-4da1-8939-d0815025a16a",
   "metadata": {
    "tags": []
   },
   "source": [
    "## Export"
   ]
  },
  {
   "attachments": {},
   "cell_type": "markdown",
   "id": "a5023b0c",
   "metadata": {},
   "source": [
    "### Günlük Özetler"
   ]
  },
  {
   "cell_type": "markdown",
   "id": "7b4232a7",
   "metadata": {},
   "source": [
    "#### Wind 1"
   ]
  },
  {
   "cell_type": "code",
   "execution_count": 79,
   "id": "cba56150",
   "metadata": {},
   "outputs": [],
   "source": [
    "wind1_günlük_özet = empty_frame.copy()\n",
    "wind1_günlük_özet[\"Net PnL\"] = wind1_pnl\n",
    "wind1_günlük_özet[\"Net Birim PnL\"] = wind1_net_birim_pnl\n",
    "wind1_günlük_özet[\"Üretim\"] = wind1_data[\"Gerçekleşen Üretim  (MWh)\"]\n",
    "wind1_günlük_özet[\"Enerji Dengesizlik Maliyeti\"] = wind1_dengesizlik_maliyeti\n",
    "wind1_günlük_özet[\"İç Tasarruf\"] = dsg[\"Wind1 İç Tasarruf\"]\n",
    "wind1_günlük_özet[\"Dış Tsarruf\"] = dsg[\"Wind1 Dış Tasarruf\"]\n",
    "wind1_günlük_özet[\"Gip PnL\"] = gip_tablo[\"Wind1 Gip PnL\"]\n",
    "wind1_günlük_özet[\"KÜPST\"] = wind1_kupst\n",
    "wind1_günlük_özet[\"Hizmet Bedeli\"] = wind1_service_fee\n",
    "wind1_günlük_özet[\"Finansal Gelir\"] = wind1_finansman_geliri\n"
   ]
  },
  {
   "attachments": {},
   "cell_type": "markdown",
   "id": "e8bb7848",
   "metadata": {},
   "source": [
    "#### Wind 2"
   ]
  },
  {
   "cell_type": "code",
   "execution_count": 80,
   "id": "ff888de3",
   "metadata": {},
   "outputs": [],
   "source": [
    "wind2_günlük_özet = empty_frame.copy()\n",
    "wind2_günlük_özet[\"Net PnL\"] = wind2_pnl\n",
    "wind2_günlük_özet[\"Net Birim PnL\"] = wind2_net_birim_pnl\n",
    "wind2_günlük_özet[\"Üretim\"] = wind2_data[\"Gerçekleşen Üretim  (MWh)\"]\n",
    "wind2_günlük_özet[\"Enerji Dengesizlik Maliyeti\"] = wind2_dengesizlik_maliyeti\n",
    "wind2_günlük_özet[\"İç Tasarruf\"] = dsg[\"Wind2 İç Tasarruf\"]\n",
    "wind2_günlük_özet[\"Dış Tsarruf\"] = dsg[\"Wind2 Dış Tasarruf\"]\n",
    "wind2_günlük_özet[\"Gip PnL\"] = gip_tablo[\"Wind2 Gip PnL\"]\n",
    "wind2_günlük_özet[\"KÜPST\"] = wind2_kupst\n",
    "wind2_günlük_özet[\"Hizmet Bedeli\"] = wind2_service_fee\n",
    "wind2_günlük_özet[\"Finansal Gelir\"] = wind2_finansman_geliri"
   ]
  },
  {
   "attachments": {},
   "cell_type": "markdown",
   "id": "d45f6d01",
   "metadata": {},
   "source": [
    "#### Hydro 1"
   ]
  },
  {
   "cell_type": "code",
   "execution_count": 81,
   "id": "315e4937",
   "metadata": {},
   "outputs": [],
   "source": [
    "hydro1_günlük_özet = empty_frame.copy()\n",
    "hydro1_günlük_özet[\"Net PnL\"] = hydro1_pnl\n",
    "hydro1_günlük_özet[\"Net Birim PnL\"] = hydro1_net_birim_pnl\n",
    "hydro1_günlük_özet[\"Üretim\"] = hydro1_data[\"Gerçekleşen Üretim  (MWh)\"]\n",
    "hydro1_günlük_özet[\"Enerji Dengesizlik Maliyeti\"] = hydro1_dengesizlik_maliyeti\n",
    "hydro1_günlük_özet[\"İç Tasarruf\"] = dsg[\"Hydro1 İç Tasarruf\"]\n",
    "hydro1_günlük_özet[\"Dış Tsarruf\"] = dsg[\"Hydro1 Dış Tasarruf\"]\n",
    "hydro1_günlük_özet[\"Gip PnL\"] = gip_tablo[\"Hydro1 Gip PnL\"]\n",
    "hydro1_günlük_özet[\"KÜPST\"] = hydro1_kupst\n",
    "hydro1_günlük_özet[\"Hizmet Bedeli\"] = hydro1_service_fee\n",
    "hydro1_günlük_özet[\"Finansal Gelir\"] = hydro1_finansman_geliri"
   ]
  },
  {
   "cell_type": "markdown",
   "id": "6c11fa23",
   "metadata": {},
   "source": [
    "#### Hydro 2"
   ]
  },
  {
   "cell_type": "code",
   "execution_count": 82,
   "id": "5f418f8b",
   "metadata": {},
   "outputs": [],
   "source": [
    "hydro2_günlük_özet = empty_frame.copy()\n",
    "hydro2_günlük_özet[\"Net PnL\"] = hydro2_pnl\n",
    "hydro2_günlük_özet[\"Net Birim PnL\"] = hydro2_net_birim_pnl\n",
    "hydro2_günlük_özet[\"Üretim\"] = hydro2_data[\"Gerçekleşen Üretim  (MWh)\"]\n",
    "hydro2_günlük_özet[\"Enerji Dengesizlik Maliyeti\"] = hydro2_dengesizlik_maliyeti\n",
    "hydro2_günlük_özet[\"İç Tasarruf\"] = dsg[\"Hydro2 İç Tasarruf\"]\n",
    "hydro2_günlük_özet[\"Dış Tsarruf\"] = dsg[\"Hydro2 Dış Tasarruf\"]\n",
    "hydro2_günlük_özet[\"Gip PnL\"] = gip_tablo[\"Hydro2 Gip PnL\"]\n",
    "hydro2_günlük_özet[\"KÜPST\"] = hydro2_kupst\n",
    "hydro2_günlük_özet[\"Hizmet Bedeli\"] = hydro2_service_fee\n",
    "hydro2_günlük_özet[\"Finansal Gelir\"] = hydro2_finansman_geliri"
   ]
  },
  {
   "cell_type": "markdown",
   "id": "f40589c1",
   "metadata": {},
   "source": [
    "### Aylık Özetler"
   ]
  },
  {
   "attachments": {},
   "cell_type": "markdown",
   "id": "4494d453",
   "metadata": {},
   "source": [
    "#### Wind1"
   ]
  },
  {
   "cell_type": "code",
   "execution_count": null,
   "id": "cfbd1187",
   "metadata": {},
   "outputs": [],
   "source": []
  }
 ],
 "metadata": {
  "kernelspec": {
   "display_name": "base",
   "language": "python",
   "name": "python3"
  },
  "language_info": {
   "codemirror_mode": {
    "name": "ipython",
    "version": 3
   },
   "file_extension": ".py",
   "mimetype": "text/x-python",
   "name": "python",
   "nbconvert_exporter": "python",
   "pygments_lexer": "ipython3",
   "version": "3.9.13"
  },
  "toc-autonumbering": false,
  "toc-showmarkdowntxt": false,
  "vscode": {
   "interpreter": {
    "hash": "939426be350ea136d7702cb38d9d1c611a2da7982b737f0b7151fc28273a1a91"
   }
  }
 },
 "nbformat": 4,
 "nbformat_minor": 5
}
