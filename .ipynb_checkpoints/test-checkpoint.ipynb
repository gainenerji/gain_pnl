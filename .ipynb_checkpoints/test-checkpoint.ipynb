{
 "cells": [
  {
   "cell_type": "markdown",
   "id": "605a5703-e0fb-4405-8685-6c6547cf1293",
   "metadata": {
    "jp-MarkdownHeadingCollapsed": true,
    "tags": []
   },
   "source": [
    "## Libraries"
   ]
  },
  {
   "cell_type": "code",
   "execution_count": 1,
   "id": "db13912b-db93-4a12-9b7c-f7595e2e3698",
   "metadata": {},
   "outputs": [],
   "source": [
    "import pandas as pd\n",
    "import seaborn as sns\n",
    "import matplotlib.pyplot as plt\n",
    "import numpy as np\n",
    "import datetime\n",
    "from UliPlot.XLSX import auto_adjust_xlsx_column_width\n",
    "from dateutil import relativedelta"
   ]
  },
  {
   "cell_type": "markdown",
   "id": "4dee24a3-8414-45ed-bd8f-14d6ddcd1822",
   "metadata": {
    "jp-MarkdownHeadingCollapsed": true,
    "tags": []
   },
   "source": [
    "## Data Paths"
   ]
  },
  {
   "cell_type": "code",
   "execution_count": 2,
   "id": "da2afe47-4384-429f-b2ab-779caa943175",
   "metadata": {},
   "outputs": [],
   "source": [
    "data_path = \"data.xlsx\"\n",
    "dengesizlik_path = \"dengesizlik_data.xlsx\"\n",
    "super_grup_path = \"super_grup.xlsx\""
   ]
  },
  {
   "cell_type": "markdown",
   "id": "fe25551d-2ff2-4ced-9d53-3e67a4b6664d",
   "metadata": {
    "jp-MarkdownHeadingCollapsed": true,
    "tags": []
   },
   "source": [
    "## Read Excel"
   ]
  },
  {
   "cell_type": "code",
   "execution_count": 3,
   "id": "83f8909e-decf-48f9-81b1-422b53822f24",
   "metadata": {},
   "outputs": [],
   "source": [
    "wind1_data = pd.read_excel(\"data.xlsx\",sheet_name='Wind_1')\n",
    "wind2_data = pd.read_excel(data_path,sheet_name='Wind_2')\n",
    "hydro1_data = pd.read_excel(data_path,sheet_name='Hydro_1')\n",
    "hydro2_data = pd.read_excel(data_path,sheet_name='Hydro_2')\n",
    "fiyat_data = pd.read_excel(data_path,sheet_name='PTF, SMF')\n",
    "dengesizlik_data = pd.read_excel(dengesizlik_path)\n",
    "super_grup_data = pd.read_excel(super_grup_path)"
   ]
  },
  {
   "cell_type": "markdown",
   "id": "7fc581ba-e0de-4c1a-9c3e-92d49233ffa1",
   "metadata": {
    "jp-MarkdownHeadingCollapsed": true,
    "tags": []
   },
   "source": [
    "## Variables"
   ]
  },
  {
   "cell_type": "code",
   "execution_count": 4,
   "id": "54652854-889b-44a0-a015-31f7f82cbb16",
   "metadata": {},
   "outputs": [],
   "source": [
    "wind1_fee_var = 3/100\n",
    "wind2_fee_var = 3/100\n",
    "hydro1_fee_var = 2/100\n",
    "hydro2_fee_var = 1.5/100\n",
    "\n",
    "wind1_fee_const = -35\n",
    "wind2_fee_const = -15\n",
    "hydro1_fee_const = -30\n",
    "hydro2_fee_const = 0"
   ]
  },
  {
   "cell_type": "markdown",
   "id": "d9cef060-9d9f-41ee-ab98-6bef8b1d9fd4",
   "metadata": {
    "tags": []
   },
   "source": [
    "## Functions"
   ]
  },
  {
   "cell_type": "markdown",
   "id": "56c6b83c-7bbf-464b-b8bd-51ad0e97db55",
   "metadata": {
    "jp-MarkdownHeadingCollapsed": true,
    "tags": []
   },
   "source": [
    "### Max Fiyat Bulan Fonksiyon"
   ]
  },
  {
   "cell_type": "code",
   "execution_count": 5,
   "id": "831560bf-a15c-4af0-b96f-a7d326057a11",
   "metadata": {},
   "outputs": [],
   "source": [
    "def fiyat_max(row):\n",
    "    if row['Piyasa Takas Fiyatı (TL/MWh)'] > row['Sistem Marjinal Fiyatı (TL/MWh)']:\n",
    "        return row['Piyasa Takas Fiyatı (TL/MWh)']\n",
    "    elif row['Piyasa Takas Fiyatı (TL/MWh)'] < row['Sistem Marjinal Fiyatı (TL/MWh)']:\n",
    "        return row['Sistem Marjinal Fiyatı (TL/MWh)']\n",
    "    else:\n",
    "        return row['Piyasa Takas Fiyatı (TL/MWh)']\n"
   ]
  },
  {
   "cell_type": "code",
   "execution_count": 6,
   "id": "af3e50e4-c43c-4961-baac-ada9f3a982be",
   "metadata": {},
   "outputs": [],
   "source": [
    "max_fiyat = fiyat_data.apply(fiyat_max, axis=1)"
   ]
  },
  {
   "cell_type": "markdown",
   "id": "e0f1a430-dc3d-4a86-96ab-c2a5c0f0ec4f",
   "metadata": {
    "jp-MarkdownHeadingCollapsed": true,
    "tags": []
   },
   "source": [
    "### Min Fiyat Bulan Fonksiyon"
   ]
  },
  {
   "cell_type": "code",
   "execution_count": 7,
   "id": "6a2567ef-896a-4ccf-a81a-6d34d569c254",
   "metadata": {},
   "outputs": [],
   "source": [
    "def fiyat_min(row):\n",
    "    if row['Piyasa Takas Fiyatı (TL/MWh)'] > row['Sistem Marjinal Fiyatı (TL/MWh)']:\n",
    "        return row['Sistem Marjinal Fiyatı (TL/MWh)']\n",
    "    elif row['Piyasa Takas Fiyatı (TL/MWh)'] < row['Sistem Marjinal Fiyatı (TL/MWh)']:\n",
    "        return row['Piyasa Takas Fiyatı (TL/MWh)']\n",
    "    else:\n",
    "        return row['Piyasa Takas Fiyatı (TL/MWh)']"
   ]
  },
  {
   "cell_type": "code",
   "execution_count": 8,
   "id": "dd5930bd-9e8a-4d84-8fba-f19f2ddd7c0c",
   "metadata": {},
   "outputs": [],
   "source": [
    "min_fiyat = fiyat_data.apply(fiyat_min, axis=1)"
   ]
  },
  {
   "cell_type": "markdown",
   "id": "abf62823-20af-4831-a2a0-c4c86be70d06",
   "metadata": {
    "jp-MarkdownHeadingCollapsed": true,
    "tags": []
   },
   "source": [
    "### Dengesizlik Fiyatlarını Bulan Fonksiyon"
   ]
  },
  {
   "cell_type": "code",
   "execution_count": 9,
   "id": "e00819e8-6fbb-4950-9aaf-343bb80ff4a5",
   "metadata": {},
   "outputs": [],
   "source": [
    "pdf = min_fiyat*0.97\n",
    "ndf = max_fiyat*1.03"
   ]
  },
  {
   "cell_type": "markdown",
   "id": "e1198bf2-fed6-4d9f-9ed1-5b89a696a01c",
   "metadata": {
    "jp-MarkdownHeadingCollapsed": true,
    "tags": []
   },
   "source": [
    "### Dengesizlik Hesaplayan Fonksiyon"
   ]
  },
  {
   "cell_type": "code",
   "execution_count": 10,
   "id": "c7a9b5d4-5a98-41f4-9f9e-468997526c77",
   "metadata": {},
   "outputs": [],
   "source": [
    "def dengesizlik_hesapla(data_set):\n",
    "    nihai_tahmin = data_set[[\"Gün Öncesi Üretim Tahmini (MWh)\",\"Gün İçi Üretim Tahmini Revizesi (MWh)\"]].sum(axis=1)\n",
    "    dengesizlik = data_set[\"Gerçekleşen Üretim  (MWh)\"] - nihai_tahmin\n",
    "    return dengesizlik"
   ]
  },
  {
   "cell_type": "markdown",
   "id": "a9bb9439-8e70-453b-a9b2-6d1460525f72",
   "metadata": {
    "jp-MarkdownHeadingCollapsed": true,
    "tags": []
   },
   "source": [
    "### Dengesizlik Tutarı Hesaplayan Fonksiyon"
   ]
  },
  {
   "cell_type": "code",
   "execution_count": 11,
   "id": "7e0a24ca-940a-41f8-9620-70a4bcb522b4",
   "metadata": {},
   "outputs": [],
   "source": [
    "def dengesizlik_tutari_hesapla(dengesizlik):\n",
    "    dengesizlik_tutari = dengesizlik.copy()\n",
    "    for i in range(len(dengesizlik)):\n",
    "        if dengesizlik.iloc[i] > 0:\n",
    "            dengesizlik_tutari[i] = dengesizlik.iloc[i] * pdf.iloc[i]\n",
    "        elif dengesizlik.iloc[i] < 0:\n",
    "            dengesizlik_tutari[i] = dengesizlik.iloc[i] * ndf.iloc[i]    \n",
    "    return dengesizlik_tutari"
   ]
  },
  {
   "cell_type": "markdown",
   "id": "2e03a0a7-1f2d-4de7-88db-624f709bbddb",
   "metadata": {
    "jp-MarkdownHeadingCollapsed": true,
    "tags": []
   },
   "source": [
    "### Gip Alış-Satış Hesaplayan Fonksiyon"
   ]
  },
  {
   "cell_type": "code",
   "execution_count": 12,
   "id": "415e55e9-576f-4671-b06c-9fd24678883a",
   "metadata": {},
   "outputs": [],
   "source": [
    "def gip_hesapla(data):\n",
    "    gip_alis = wind1_dengesizlik.copy()\n",
    "    gip_satis = wind1_dengesizlik.copy()\n",
    "    net_gip_pnl = wind1_dengesizlik.copy()\n",
    "    gip = pd.DataFrame()\n",
    "    for i in range(len(data)):\n",
    "        if data[\"Gün İçi Üretim Tahmini Revizesi (MWh)\"].iloc[i] > 0:\n",
    "            gip_satis.iloc[i] = data[\"Gün İçi Üretim Tahmini Revizesi (MWh)\"].iloc[i] * fiyat_data[\"Gip Fiyatı\"].iloc[i]\n",
    "            gip_alis.iloc[i] = 0\n",
    "        elif data[\"Gün İçi Üretim Tahmini Revizesi (MWh)\"].iloc[i] < 0:\n",
    "            gip_alis.iloc[i] = data[\"Gün İçi Üretim Tahmini Revizesi (MWh)\"].iloc[i] * fiyat_data[\"Gip Fiyatı\"].iloc[i]\n",
    "            gip_satis.iloc[i] = 0\n",
    "    \n",
    "    net_gip_tutari = gip_alis + gip_satis\n",
    "    \n",
    "    for i in range(len(data)):\n",
    "        net_gip_pnl[i] = net_gip_tutari.iloc[i] - (data[\"Gün İçi Üretim Tahmini Revizesi (MWh)\"].iloc[i]*fiyat_data[\"Piyasa Takas Fiyatı (TL/MWh)\"].iloc[i])\n",
    "    \n",
    "    gip[\"Gip Satış Miktarı\"] = gip_satis\n",
    "    gip[\"Gip Alış Miktarı\"] = gip_alis\n",
    "    gip[\"Net Gip Tutarı\"] = net_gip_tutari\n",
    "    gip[\"Net Gip Kar-Zarar\"] = net_gip_pnl\n",
    "    \n",
    "    \n",
    "    \n",
    "    \n",
    "    return gip"
   ]
  },
  {
   "cell_type": "markdown",
   "id": "2fa5094c-fbc5-4019-9740-8bf4707537c9",
   "metadata": {
    "jp-MarkdownHeadingCollapsed": true,
    "tags": []
   },
   "source": [
    "### Toplam Gelir Hesaplayan Fonksiyon"
   ]
  },
  {
   "cell_type": "code",
   "execution_count": 13,
   "id": "c44808ca-76d6-4fc7-a59f-8abc9770405e",
   "metadata": {},
   "outputs": [],
   "source": [
    "def toplam_gelir_hesapla(data_set,dengesizlik_tutari,gip):\n",
    "    nihai_tahmin = data_set[[\"Gün Öncesi Üretim Tahmini (MWh)\",\"Gün İçi Üretim Tahmini Revizesi (MWh)\"]].sum(axis=1)\n",
    "    toplam_gelir = dengesizlik_tutari+(data_set[\"Gün Öncesi Üretim Tahmini (MWh)\"]*fiyat_data[\"Piyasa Takas Fiyatı (TL/MWh)\"]) + gip[\"Net Gip Tutarı\"]\n",
    "    return toplam_gelir"
   ]
  },
  {
   "cell_type": "markdown",
   "id": "c03f8fb1-fd66-4679-8d86-2524d6102dd4",
   "metadata": {
    "jp-MarkdownHeadingCollapsed": true,
    "tags": []
   },
   "source": [
    "### Maksimum Gelir Hesaplayan Fonksiyon"
   ]
  },
  {
   "cell_type": "code",
   "execution_count": 14,
   "id": "a7aa512e-2337-455a-9cca-00ba83489bd5",
   "metadata": {},
   "outputs": [],
   "source": [
    "def maksimum_kazanc_hesapla(data_set):\n",
    "    kazanc = data_set[\"Gerçekleşen Üretim  (MWh)\"] * fiyat_data[\"Piyasa Takas Fiyatı (TL/MWh)\"]    \n",
    "    return kazanc"
   ]
  },
  {
   "cell_type": "markdown",
   "id": "8576be31-639b-4884-995f-a219f1573b1d",
   "metadata": {
    "jp-MarkdownHeadingCollapsed": true,
    "tags": []
   },
   "source": [
    "### Dengesizlik Maliyeti Hesaplayan Fonksiyon"
   ]
  },
  {
   "cell_type": "code",
   "execution_count": 15,
   "id": "8523fa08-7b69-48e2-ac20-822e4d1d7487",
   "metadata": {},
   "outputs": [],
   "source": [
    "def dengesizlik_maliyeti_hesapla(maksimum_kazanc,toplam_gelir):\n",
    "    dengesizlik_maliyeti = maksimum_kazanc - toplam_gelir\n",
    "    return dengesizlik_maliyeti"
   ]
  },
  {
   "cell_type": "markdown",
   "id": "2a1a3b51-d8be-49d7-bf60-1eb64805e063",
   "metadata": {
    "jp-MarkdownHeadingCollapsed": true,
    "tags": []
   },
   "source": [
    "### KUPST Hesaplayan Fonksiyon"
   ]
  },
  {
   "cell_type": "code",
   "execution_count": 16,
   "id": "61a3d38a-3055-424a-b69f-1b8cc7914194",
   "metadata": {},
   "outputs": [],
   "source": [
    "def kupst_hesapla(data_set):\n",
    "    üretim = data_set[\"Gerçekleşen Üretim  (MWh)\"]\n",
    "    kgup = data_set[[\"Gün Öncesi Üretim Tahmini (MWh)\",\"Gün İçi Üretim Tahmini Revizesi (MWh)\"]].sum(axis=1)\n",
    "    sapma = abs(üretim-kgup)\n",
    "    kupsm = wind1_dengesizlik.copy()\n",
    "\n",
    "    for i in range(len(sapma)):\n",
    "        if (sapma.iloc[i] > (kgup.iloc[i]*0.1)):\n",
    "            kupsm.iloc[i] = abs(üretim.iloc[i] - kgup.iloc[i]) - (kgup.iloc[i]*0.1)\n",
    "        else:\n",
    "            kupsm.iloc[i] = 0\n",
    "    \n",
    "    kupst = kupsm*max_fiyat*0.03\n",
    "    \n",
    "    return kupst"
   ]
  },
  {
   "cell_type": "markdown",
   "id": "b0fa0d95-a505-4e68-9a51-27d3f48f3ac3",
   "metadata": {
    "jp-MarkdownHeadingCollapsed": true,
    "tags": []
   },
   "source": [
    "### Tasarruf Hesaplayan Fonksiyon"
   ]
  },
  {
   "cell_type": "code",
   "execution_count": 17,
   "id": "29cd2814-b494-439f-b49c-769918e42bec",
   "metadata": {},
   "outputs": [],
   "source": [
    "def tasarruf_hesapla(dengesizlik,dt):  \n",
    "    dsg = dengesizlik_data[\"GAIN Mevcut DSG Imb  (MWh)\"]\n",
    "    toplam_edt = dengesizlik.copy()\n",
    "    dsg_edt = dsg.copy()\n",
    "    toplam_dengesizlik = dsg + dengesizlik\n",
    "    \n",
    "    #DSG EDT Hesapla\n",
    "    for i in range(len(dsg)):\n",
    "        if dsg.iloc[i] > 0:\n",
    "            dsg_edt[i] = dsg.iloc[i] * (pdf.iloc[i]) \n",
    "        elif dsg.iloc[i] < 0:\n",
    "            dsg_edt[i] = dsg.iloc[i] * (ndf.iloc[i])\n",
    "    \n",
    "    #Toplam EDT Hesapla\n",
    "     \n",
    "    for i in range(len(toplam_dengesizlik)):\n",
    "        if toplam_dengesizlik.iloc[i] > 0:\n",
    "            toplam_edt[i] = toplam_dengesizlik.iloc[i] * (pdf.iloc[i]) \n",
    "        elif toplam_dengesizlik.iloc[i] < 0:\n",
    "            toplam_edt[i] = toplam_dengesizlik.iloc[i] * (ndf.iloc[i])\n",
    "    \n",
    "    #Tasarrufu Hesapla\n",
    "    \n",
    "    tasarruf = toplam_edt-(dsg_edt+dt)\n",
    "    \n",
    "    return tasarruf"
   ]
  },
  {
   "cell_type": "markdown",
   "id": "4b84c8ef-36b7-4bd9-bbc1-fb735af0db0f",
   "metadata": {
    "jp-MarkdownHeadingCollapsed": true,
    "tags": []
   },
   "source": [
    "### DSG Hesaplayan Fonksiyon"
   ]
  },
  {
   "cell_type": "code",
   "execution_count": 18,
   "id": "65debc45-079e-4ae0-92e6-ade31de9252a",
   "metadata": {},
   "outputs": [],
   "source": [
    "def dsg_hesapla(): \n",
    "    pozitif_dengesizlik_toplamı = wind1_dengesizlik_tutari.copy()\n",
    "    negatif_dengesizlik_toplamı = wind1_dengesizlik_tutari.copy()\n",
    "    gain_dsg_dengesizlik = 0\n",
    "    gain_dsg_dt = wind1_dengesizlik_tutari.copy()\n",
    "    super_grup_dm = wind1_dengesizlik_tutari.copy()\n",
    "    ck_dengesizlik_dm = wind1_dengesizlik_tutari.copy()\n",
    "    wind1_tasarruf = wind1_dengesizlik.copy()\n",
    "    wind1_dis_tasarruf = wind1_dengesizlik.copy()\n",
    "    wind2_dis_tasarruf = wind1_dengesizlik.copy()\n",
    "    hydro1_dis_tasarruf = wind1_dengesizlik.copy()\n",
    "    hydro2_dis_tasarruf = wind1_dengesizlik.copy()\n",
    "    super_grup = super_grup_data[\"Super Grup Imb  (MWh)\"]\n",
    "    \n",
    "    gain_dsg_dengesizlik = wind1_dengesizlik + wind2_dengesizlik + hydro1_dengesizlik + hydro2_dengesizlik\n",
    "    \n",
    "    for i in range(len(gain_dsg_dengesizlik)):\n",
    "        if gain_dsg_dengesizlik.iloc[i] > 0:\n",
    "            gain_dsg_dt[i] = gain_dsg_dengesizlik.iloc[i] * pdf.iloc[i]\n",
    "        elif gain_dsg_dengesizlik.iloc[i] < 0:\n",
    "            gain_dsg_dt[i] = gain_dsg_dengesizlik.iloc[i] * ndf.iloc[i]\n",
    "            \n",
    "    gain_dsg_dm = gain_dsg_dengesizlik*fiyat_data[\"Piyasa Takas Fiyatı (TL/MWh)\"] - gain_dsg_dt\n",
    "    \n",
    "    toplam_maliyet = wind1_dengesizlik_maliyeti+wind2_dengesizlik_maliyeti+hydro1_dengesizlik_maliyeti+hydro2_dengesizlik_maliyeti\n",
    "    ic_tasarruf = toplam_maliyet - gain_dsg_dm\n",
    "    for i in range(len(ic_tasarruf)):\n",
    "        if ic_tasarruf.iloc[i] < 0.1:\n",
    "            ic_tasarruf[i] = 0\n",
    "    wind1_tasarruf = (wind1_dengesizlik_maliyeti/toplam_maliyet)*ic_tasarruf\n",
    "    wind1_tasarruf = round(wind1_tasarruf, 2)\n",
    "    \n",
    "    wind2_tasarruf = (wind2_dengesizlik_maliyeti/toplam_maliyet)*ic_tasarruf\n",
    "    wind2_tasarruf = round(wind2_tasarruf, 2)\n",
    "    \n",
    "    hydro1_tasarruf = (hydro1_dengesizlik_maliyeti/toplam_maliyet)*ic_tasarruf\n",
    "    hydro1_tasarruf = round(hydro1_tasarruf, 2)\n",
    "    \n",
    "    hydro2_tasarruf = (hydro2_dengesizlik_maliyeti/toplam_maliyet)*ic_tasarruf\n",
    "    hydro2_tasarruf = round(hydro2_tasarruf, 2)\n",
    "\n",
    "\n",
    "    for i in range(len(super_grup)):\n",
    "        if super_grup.iloc[i] > 0:\n",
    "            super_grup_dm[i] = (super_grup.iloc[i]*fiyat_data[\"Piyasa Takas Fiyatı (TL/MWh)\"].iloc[i]) - super_grup.iloc[i] * pdf.iloc[i]\n",
    "        elif super_grup.iloc[i] < 0:\n",
    "            super_grup_dm[i] = (super_grup.iloc[i]*fiyat_data[\"Piyasa Takas Fiyatı (TL/MWh)\"].iloc[i]) - super_grup.iloc[i] * ndf.iloc[i]\n",
    "            \n",
    "    ck_dengesizlik = super_grup + gain_dsg_dengesizlik\n",
    "    for i in range(len(ck_dengesizlik)):\n",
    "        if ck_dengesizlik.iloc[i] > 0:\n",
    "            ck_dengesizlik_dm[i] = (ck_dengesizlik.iloc[i]*fiyat_data[\"Piyasa Takas Fiyatı (TL/MWh)\"].iloc[i]) - ck_dengesizlik.iloc[i] * pdf.iloc[i]\n",
    "        elif ck_dengesizlik.iloc[i] < 0:\n",
    "            ck_dengesizlik_dm[i] = (ck_dengesizlik.iloc[i]*fiyat_data[\"Piyasa Takas Fiyatı (TL/MWh)\"].iloc[i]) - ck_dengesizlik.iloc[i] * ndf.iloc[i]\n",
    "    dis_tasarruf = (super_grup_dm+gain_dsg_dm-ck_dengesizlik_dm)*6/10\n",
    "    for i in range(len(dis_tasarruf)):\n",
    "        if dis_tasarruf.iloc[i] < 0.1:\n",
    "            dis_tasarruf[i] = 0\n",
    "\n",
    "    for i in range(len(pozitif_dengesizlik_toplamı)):\n",
    "        pozitif_dengesizlik_toplamı.iloc[i] = 0\n",
    "        negatif_dengesizlik_toplamı.iloc[i] = 0\n",
    "        if wind1_dengesizlik.iloc[i] > 0:\n",
    "            pozitif_dengesizlik_toplamı.iloc[i] = pozitif_dengesizlik_toplamı.iloc[i] + wind1_dengesizlik.iloc[i]\n",
    "        elif wind1_dengesizlik.iloc[i] < 0:  \n",
    "            negatif_dengesizlik_toplamı.iloc[i] = negatif_dengesizlik_toplamı.iloc[i] + wind1_dengesizlik.iloc[i]\n",
    "        if wind2_dengesizlik.iloc[i] > 0:\n",
    "            pozitif_dengesizlik_toplamı.iloc[i] = pozitif_dengesizlik_toplamı.iloc[i] + wind2_dengesizlik.iloc[i]\n",
    "        elif wind2_dengesizlik.iloc[i] < 0:  \n",
    "            negatif_dengesizlik_toplamı.iloc[i] = negatif_dengesizlik_toplamı.iloc[i] + wind2_dengesizlik.iloc[i]\n",
    "        if hydro1_dengesizlik.iloc[i] > 0:\n",
    "            pozitif_dengesizlik_toplamı.iloc[i] = pozitif_dengesizlik_toplamı.iloc[i] +hydro1_dengesizlik.iloc[i]\n",
    "        elif hydro1_dengesizlik.iloc[i] < 0:  \n",
    "            negatif_dengesizlik_toplamı.iloc[i] = negatif_dengesizlik_toplamı.iloc[i] + hydro1_dengesizlik.iloc[i]\n",
    "        if hydro2_dengesizlik.iloc[i] > 0:\n",
    "            pozitif_dengesizlik_toplamı.iloc[i] = pozitif_dengesizlik_toplamı.iloc[i] +hydro2_dengesizlik.iloc[i]\n",
    "        elif hydro2_dengesizlik.iloc[i] < 0:  \n",
    "            negatif_dengesizlik_toplamı.iloc[i] = negatif_dengesizlik_toplamı.iloc[i] + hydro2_dengesizlik.iloc[i]\n",
    "    \n",
    "    for i in range(len(dis_tasarruf)):\n",
    "        if dis_tasarruf.iloc[i] > 0:\n",
    "            if gain_dsg_dengesizlik.iloc[i] > 0 and wind1_dengesizlik.iloc[i] > 0:\n",
    "                wind1_dis_tasarruf.iloc[i] = (wind1_dengesizlik.iloc[i]/pozitif_dengesizlik_toplamı.iloc[i]) * dis_tasarruf.iloc[i]\n",
    "            elif gain_dsg_dengesizlik.iloc[i] < 0 and wind1_dengesizlik.iloc[i] < 0: \n",
    "                wind1_dis_tasarruf.iloc[i] = (wind1_dengesizlik.iloc[i]/negatif_dengesizlik_toplamı.iloc[i]) * dis_tasarruf.iloc[i]\n",
    "            else:\n",
    "                wind1_dis_tasarruf.iloc[i] = 0\n",
    "                \n",
    "            if gain_dsg_dengesizlik.iloc[i] > 0 and wind2_dengesizlik.iloc[i] > 0:\n",
    "                wind2_dis_tasarruf.iloc[i] = (wind2_dengesizlik.iloc[i]/pozitif_dengesizlik_toplamı.iloc[i]) * dis_tasarruf.iloc[i]\n",
    "            elif gain_dsg_dengesizlik.iloc[i] < 0 and wind2_dengesizlik.iloc[i] < 0: \n",
    "                wind2_dis_tasarruf.iloc[i] = (wind2_dengesizlik.iloc[i]/negatif_dengesizlik_toplamı.iloc[i]) * dis_tasarruf.iloc[i]\n",
    "            else:\n",
    "                wind2_dis_tasarruf.iloc[i] = 0\n",
    "                \n",
    "            if gain_dsg_dengesizlik.iloc[i] > 0 and hydro1_dengesizlik.iloc[i] > 0:\n",
    "                hydro1_dis_tasarruf.iloc[i] = (hydro1_dengesizlik.iloc[i]/pozitif_dengesizlik_toplamı.iloc[i]) * dis_tasarruf.iloc[i]\n",
    "            elif gain_dsg_dengesizlik.iloc[i] < 0 and hydro1_dengesizlik.iloc[i] < 0: \n",
    "                hydro1_dis_tasarruf.iloc[i] = (hydro1_dengesizlik.iloc[i]/negatif_dengesizlik_toplamı.iloc[i]) * dis_tasarruf.iloc[i]\n",
    "            else:\n",
    "                hydro1_dis_tasarruf.iloc[i] = 0\n",
    "                \n",
    "            if gain_dsg_dengesizlik.iloc[i] > 0 and hydro2_dengesizlik.iloc[i] > 0:\n",
    "                hydro2_dis_tasarruf.iloc[i] = (hydro2_dengesizlik.iloc[i]/pozitif_dengesizlik_toplamı.iloc[i]) * dis_tasarruf.iloc[i]\n",
    "            elif gain_dsg_dengesizlik.iloc[i] < 0 and hydro2_dengesizlik.iloc[i] < 0: \n",
    "                hydro2_dis_tasarruf.iloc[i] = (hydro2_dengesizlik.iloc[i]/negatif_dengesizlik_toplamı.iloc[i]) * dis_tasarruf.iloc[i]\n",
    "            else:\n",
    "                hydro2_dis_tasarruf.iloc[i] = 0\n",
    "                 \n",
    "        else:\n",
    "            wind1_dis_tasarruf.iloc[i] = wind2_dis_tasarruf.iloc[i] = hydro1_dis_tasarruf.iloc[i] = hydro2_dis_tasarruf.iloc[i] = 0\n",
    "            \n",
    "    #DSG Tablosu\n",
    "    \n",
    "    dsg = dengesizlik_data.copy()\n",
    "    dsg = dsg.drop(dsg.columns[2], axis=1)\n",
    "    dsg[\"Wind1 Dengesizlik\"] = wind1_dengesizlik\n",
    "    dsg[\"Wind2 Dengesizlik\"] = wind2_dengesizlik\n",
    "    dsg[\"Hydro1 Dengesizlik\"] = hydro1_dengesizlik\n",
    "    dsg[\"Hydro2 Dengesizlik\"] = hydro2_dengesizlik\n",
    "    dsg[\"Pozitif Dengesizlik Toplamı\"] = pozitif_dengesizlik_toplamı\n",
    "    dsg[\"Negatif Dengesizlik Toplamı\"] = negatif_dengesizlik_toplamı\n",
    "    dsg[\"Gain DSG Dengesizlik\"] = gain_dsg_dengesizlik\n",
    "    dsg[\"Wind1 Dengesizlik Maliyeti\"] = wind1_dengesizlik_maliyeti\n",
    "    dsg[\"Wind2 Dengesizlik Maliyeti\"] = wind2_dengesizlik_maliyeti\n",
    "    dsg[\"Hydro1 Dengesizlik Maliyeti\"] = hydro1_dengesizlik_maliyeti\n",
    "    dsg[\"Hydro2 Dengesizlik Maliyeti\"] = hydro2_dengesizlik_maliyeti\n",
    "    dsg[\"Gain DSG Dengesizlik Maliyeti\"] = gain_dsg_dm\n",
    "    dsg[\"Wind1 İç Tasarruf\"] = wind1_tasarruf\n",
    "    dsg[\"Wind2 İç Tasarruf\"] = wind2_tasarruf\n",
    "    dsg[\"Hydro1 İç Tasarruf\"] = hydro1_tasarruf\n",
    "    dsg[\"Hydro2 İç Tasarruf\"] = hydro2_tasarruf\n",
    "    dsg[\"Toplam İç Tasarruf\"] = ic_tasarruf\n",
    "    dsg[\"Süper Grup Dengesizlik\"] = super_grup\n",
    "    dsg[\"CK Dengesizlik\"] = ck_dengesizlik\n",
    "    dsg[\"Süper Grup Dengesizlik Maliyeti\"] = super_grup_dm\n",
    "    dsg[\"CK Dengesizlik Maliyeti\"] = ck_dengesizlik_dm\n",
    "    dsg[\"Wind1 Dış Tasarruf\"] = wind1_dis_tasarruf\n",
    "    dsg[\"Wind2 Dış Tasarruf\"] = wind2_dis_tasarruf\n",
    "    dsg[\"Hydro1 Dış Tasarruf\"] = hydro1_dis_tasarruf\n",
    "    dsg[\"Hydro2 Dış Tasarruf\"] = hydro2_dis_tasarruf\n",
    "    dsg[\"Toplam Dış Tasarruf\"] = dis_tasarruf\n",
    "    \n",
    "    return dsg"
   ]
  },
  {
   "cell_type": "markdown",
   "id": "de6222e4-a584-4e3a-8cd2-3e0724c38847",
   "metadata": {
    "jp-MarkdownHeadingCollapsed": true,
    "tags": []
   },
   "source": [
    "### Servis Ücreti Hesaplayan Fonksiyon"
   ]
  },
  {
   "cell_type": "code",
   "execution_count": 19,
   "id": "897f3e3c-2fc1-4205-a9fa-e6cad5826834",
   "metadata": {},
   "outputs": [],
   "source": [
    "def service_fee_hesapla(degisken,sabit,üretim):\n",
    "    #Servis ücreti =  (Değişken * PTF + Sabit + Bayi Payı)*Üretim    \n",
    "    \n",
    "    service_fee = ((degisken * fiyat_data[\"Piyasa Takas Fiyatı (TL/MWh)\"]) + sabit) * üretim\n",
    "    return service_fee"
   ]
  },
  {
   "cell_type": "markdown",
   "id": "7d293367-fef0-4ab1-a1f3-67e7a12d6a18",
   "metadata": {
    "jp-MarkdownHeadingCollapsed": true,
    "tags": []
   },
   "source": [
    "### Finansman Geliri Hesaplayan Fonksiyon"
   ]
  },
  {
   "cell_type": "code",
   "execution_count": 20,
   "id": "a3291d60-c40c-43fc-b6d3-ff3ea60ec238",
   "metadata": {},
   "outputs": [],
   "source": [
    "def finansman_geliri_hesapla(data):\n",
    "    tablo = data[[\"Tarih\",\"Gün Öncesi Üretim Tahmini (MWh)\"]]\n",
    "    gelir = data[\"Gün Öncesi Üretim Tahmini (MWh)\"] * fiyat_data[\"Piyasa Takas Fiyatı (TL/MWh)\"]\n",
    "    weekday = wind1_dengesizlik.copy()\n",
    "    odeme_gunu = wind1_dengesizlik.copy()\n",
    "    faiz_geliri = wind1_dengesizlik.copy()\n",
    "    faiz = (20/100)/365\n",
    "    # deneme = data[\"Tarih\"] + pd.Timedelta(3, unit=\"D\")\n",
    "    for i in range(len(data[\"Tarih\"])):\n",
    "        weekday[i] = data[\"Tarih\"][i].weekday()\n",
    "    \n",
    "    for i in range(len(data[\"Tarih\"])):\n",
    "        if weekday[i] < 3 or weekday[i] == 6:\n",
    "            odeme_gunu[i] = data[\"Tarih\"][i] + pd.Timedelta(2, unit=\"D\")\n",
    "        elif weekday[i] == 3 or weekday[i] ==4:\n",
    "            odeme_gunu[i] = data[\"Tarih\"][i] + pd.Timedelta(4, unit=\"D\")\n",
    "        elif weekday[i] == 5:\n",
    "            odeme_gunu[i] = data[\"Tarih\"][i] + pd.Timedelta(3, unit=\"D\")\n",
    "    \n",
    "    # deneme = data[\"Tarih\"][30] - data[\"Tarih\"][1]\n",
    "    for i in range(len(data[\"Tarih\"])):\n",
    "        faiz_geliri[i] = data[\"Gün Öncesi Üretim Tahmini (MWh)\"][i] * (data[\"Tarih\"][i] + relativedelta.relativedelta(months=1, day=20) - odeme_gunu[i]).days * faiz * fiyat_data[\"Piyasa Takas Fiyatı (TL/MWh)\"][i]\n",
    "        faiz_geliri[i] = round( faiz_geliri[i] , 2)\n",
    "    return faiz_geliri"
   ]
  },
  {
   "cell_type": "markdown",
   "id": "4720895f-d6a5-441c-86a8-464f595a2e8a",
   "metadata": {
    "jp-MarkdownHeadingCollapsed": true,
    "tags": []
   },
   "source": [
    "## Calculations"
   ]
  },
  {
   "cell_type": "markdown",
   "id": "4d774eb8-2d71-42a9-bda3-9f7d47965639",
   "metadata": {
    "jp-MarkdownHeadingCollapsed": true,
    "tags": []
   },
   "source": [
    "### Dengesizlikler"
   ]
  },
  {
   "cell_type": "code",
   "execution_count": 21,
   "id": "7536be3b-7b5e-4ffa-a6a8-0c885c5f3f5c",
   "metadata": {},
   "outputs": [],
   "source": [
    "wind1_dengesizlik = dengesizlik_hesapla(wind1_data)\n",
    "wind2_dengesizlik = dengesizlik_hesapla(wind2_data)\n",
    "hydro1_dengesizlik = dengesizlik_hesapla(hydro1_data)\n",
    "hydro2_dengesizlik = dengesizlik_hesapla(hydro2_data)\n",
    "\n",
    "#Toplam Demgesizlik Miktarı\n",
    "gain_dsg = wind1_dengesizlik+wind2_dengesizlik+hydro1_dengesizlik+hydro2_dengesizlik"
   ]
  },
  {
   "cell_type": "markdown",
   "id": "e55c85f8-a113-432f-8d86-8759e211a0da",
   "metadata": {
    "jp-MarkdownHeadingCollapsed": true,
    "tags": []
   },
   "source": [
    "### Dengesizlik Tutarları"
   ]
  },
  {
   "cell_type": "code",
   "execution_count": 22,
   "id": "b3837906-753d-4913-a82a-ce0e8fb0d08a",
   "metadata": {},
   "outputs": [],
   "source": [
    "wind1_dengesizlik_tutari = dengesizlik_tutari_hesapla(wind1_dengesizlik)\n",
    "wind2_dengesizlik_tutari = dengesizlik_tutari_hesapla(wind2_dengesizlik)\n",
    "hydro1_dengesizlik_tutari = dengesizlik_tutari_hesapla(hydro1_dengesizlik)\n",
    "hydro2_dengesizlik_tutari = dengesizlik_tutari_hesapla(hydro2_dengesizlik)"
   ]
  },
  {
   "cell_type": "markdown",
   "id": "35db9c9b-a4b7-49ee-9525-642c395cc5b1",
   "metadata": {
    "jp-MarkdownHeadingCollapsed": true,
    "tags": []
   },
   "source": [
    "### GİP"
   ]
  },
  {
   "cell_type": "code",
   "execution_count": 23,
   "id": "842872b8-10c7-4c84-9101-3b84afa6c132",
   "metadata": {},
   "outputs": [],
   "source": [
    "wind1_gip = gip_hesapla(wind1_data)\n",
    "wind2_gip = gip_hesapla(wind2_data)\n",
    "hydro1_gip = gip_hesapla(hydro1_data)\n",
    "hydro2_gip = gip_hesapla(hydro2_data)"
   ]
  },
  {
   "cell_type": "markdown",
   "id": "131f1b51-069a-4ada-8cbd-da16606dd4f7",
   "metadata": {
    "jp-MarkdownHeadingCollapsed": true,
    "tags": []
   },
   "source": [
    "### Toplam Gelirler"
   ]
  },
  {
   "cell_type": "code",
   "execution_count": 25,
   "id": "d3ecd30d-5983-4fa1-b5f6-e4441a9ccf58",
   "metadata": {},
   "outputs": [],
   "source": [
    "wind1_toplam_gelir = toplam_gelir_hesapla(wind1_data,wind1_dengesizlik_tutari,wind1_gip)\n",
    "wind2_toplam_gelir = toplam_gelir_hesapla(wind2_data,wind2_dengesizlik_tutari,wind2_gip)\n",
    "hydro1_toplam_gelir = toplam_gelir_hesapla(hydro1_data,hydro1_dengesizlik_tutari,hydro1_gip)\n",
    "hydro2_toplam_gelir = toplam_gelir_hesapla(hydro2_data,hydro2_dengesizlik_tutari,hydro2_gip)"
   ]
  },
  {
   "cell_type": "markdown",
   "id": "5f1f803b-d400-4809-bc6a-d21205634a27",
   "metadata": {
    "jp-MarkdownHeadingCollapsed": true,
    "tags": []
   },
   "source": [
    "### Maksimum Gelirler"
   ]
  },
  {
   "cell_type": "code",
   "execution_count": 27,
   "id": "b73c57fa-b929-4d9e-bc28-03abef5f5059",
   "metadata": {},
   "outputs": [],
   "source": [
    "wind1_max_gelir = maksimum_kazanc_hesapla(wind1_data)\n",
    "wind2_max_gelir = maksimum_kazanc_hesapla(wind2_data)\n",
    "hydro1_max_gelir = maksimum_kazanc_hesapla(hydro1_data)\n",
    "hydro2_max_gelir = maksimum_kazanc_hesapla(hydro2_data)"
   ]
  },
  {
   "cell_type": "markdown",
   "id": "5816078d-b880-48d2-a0de-dffcce6ed7b2",
   "metadata": {
    "jp-MarkdownHeadingCollapsed": true,
    "tags": []
   },
   "source": [
    "### Dengesizlik Maliyetleri"
   ]
  },
  {
   "cell_type": "code",
   "execution_count": 28,
   "id": "5b4f03a7-4ee9-4f81-ac2d-000155119da9",
   "metadata": {},
   "outputs": [],
   "source": [
    "wind1_dengesizlik_maliyeti = dengesizlik_maliyeti_hesapla(wind1_max_gelir,wind1_toplam_gelir)\n",
    "wind2_dengesizlik_maliyeti = dengesizlik_maliyeti_hesapla(wind2_max_gelir,wind2_toplam_gelir)\n",
    "hydro1_dengesizlik_maliyeti = dengesizlik_maliyeti_hesapla(hydro1_max_gelir,hydro1_toplam_gelir)\n",
    "hydro2_dengesizlik_maliyeti = dengesizlik_maliyeti_hesapla(hydro2_max_gelir,hydro2_toplam_gelir)"
   ]
  },
  {
   "cell_type": "markdown",
   "id": "0b48b9de-671c-47e3-b9d9-fb1f97dc064c",
   "metadata": {
    "jp-MarkdownHeadingCollapsed": true,
    "tags": []
   },
   "source": [
    "### KUPST"
   ]
  },
  {
   "cell_type": "code",
   "execution_count": 29,
   "id": "fe733826-6fcf-4093-9f3c-94a06c55ce2c",
   "metadata": {},
   "outputs": [],
   "source": [
    "wind1_kupst = kupst_hesapla(wind1_data)\n",
    "wind2_kupst = kupst_hesapla(wind2_data)\n",
    "hydro1_kupst = kupst_hesapla(hydro1_data)\n",
    "hydro2_kupst = kupst_hesapla(hydro2_data)"
   ]
  },
  {
   "cell_type": "markdown",
   "id": "3efa4a0d-6cb2-4b61-a360-4a589d2e68d1",
   "metadata": {
    "jp-MarkdownHeadingCollapsed": true,
    "tags": []
   },
   "source": [
    "### Tasarruflar"
   ]
  },
  {
   "cell_type": "code",
   "execution_count": 30,
   "id": "5bc7fd57-eb28-4a38-95ef-e9b2f5eb9147",
   "metadata": {},
   "outputs": [],
   "source": [
    "wind1_tasarruf = tasarruf_hesapla(wind1_dengesizlik,wind1_dengesizlik_tutari)\n",
    "wind2_tasarruf = tasarruf_hesapla(wind2_dengesizlik,wind2_dengesizlik_tutari)\n",
    "hydro1_tasarruf = tasarruf_hesapla(hydro1_dengesizlik,hydro1_dengesizlik_tutari)\n",
    "hydro2_tasarruf = tasarruf_hesapla(hydro2_dengesizlik,hydro2_dengesizlik_tutari)"
   ]
  },
  {
   "cell_type": "markdown",
   "id": "bed425eb-cf97-4a79-8ea1-193ab5ad2bb7",
   "metadata": {
    "jp-MarkdownHeadingCollapsed": true,
    "tags": []
   },
   "source": [
    "### DSG"
   ]
  },
  {
   "cell_type": "code",
   "execution_count": 31,
   "id": "3edf55d8-85a2-47f4-943f-c8c4e1b17b54",
   "metadata": {},
   "outputs": [],
   "source": [
    "dsg = dsg_hesapla()"
   ]
  },
  {
   "cell_type": "markdown",
   "id": "a06fd42d-7efc-4695-aea9-6a59d9ff78ea",
   "metadata": {
    "jp-MarkdownHeadingCollapsed": true,
    "tags": []
   },
   "source": [
    "### Finansman Gelirleri"
   ]
  },
  {
   "cell_type": "code",
   "execution_count": 32,
   "id": "6510cdf2-56ed-43fe-8da3-23570451489d",
   "metadata": {},
   "outputs": [],
   "source": [
    "wind1_finansman_geliri = finansman_geliri_hesapla(wind1_data)\n",
    "wind2_finansman_geliri = finansman_geliri_hesapla(wind2_data)\n",
    "hydro1_finansman_geliri = finansman_geliri_hesapla(hydro1_data)\n",
    "hydro2_finansman_geliri = finansman_geliri_hesapla(hydro2_data)"
   ]
  },
  {
   "cell_type": "markdown",
   "id": "2a5252c8-7444-4fbe-91fc-d6e727ee4895",
   "metadata": {
    "jp-MarkdownHeadingCollapsed": true,
    "tags": []
   },
   "source": [
    "### Servis Ücretleri"
   ]
  },
  {
   "cell_type": "code",
   "execution_count": 33,
   "id": "00f34585-ad80-4d65-bcfc-cd9a10468017",
   "metadata": {},
   "outputs": [],
   "source": [
    "wind1_service_fee = service_fee_hesapla(wind1_fee_var, wind1_fee_const, wind1_data[\"Gerçekleşen Üretim  (MWh)\"])\n",
    "wind2_service_fee = service_fee_hesapla(wind2_fee_var, wind2_fee_const, wind2_data[\"Gerçekleşen Üretim  (MWh)\"])\n",
    "hydro1_service_fee = service_fee_hesapla(hydro1_fee_var, hydro2_fee_const, hydro1_data[\"Gerçekleşen Üretim  (MWh)\"])\n",
    "hydro2_service_fee = service_fee_hesapla(hydro2_fee_var, hydro2_fee_const, hydro2_data[\"Gerçekleşen Üretim  (MWh)\"])"
   ]
  }
 ],
 "metadata": {
  "kernelspec": {
   "display_name": "Python 3 (ipykernel)",
   "language": "python",
   "name": "python3"
  },
  "language_info": {
   "codemirror_mode": {
    "name": "ipython",
    "version": 3
   },
   "file_extension": ".py",
   "mimetype": "text/x-python",
   "name": "python",
   "nbconvert_exporter": "python",
   "pygments_lexer": "ipython3",
   "version": "3.9.13"
  },
  "toc-autonumbering": false,
  "toc-showmarkdowntxt": false
 },
 "nbformat": 4,
 "nbformat_minor": 5
}
